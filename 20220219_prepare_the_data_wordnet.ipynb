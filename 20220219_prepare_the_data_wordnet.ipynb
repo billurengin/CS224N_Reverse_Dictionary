{
 "cells": [
  {
   "cell_type": "code",
   "execution_count": 12,
   "id": "f96d60ad",
   "metadata": {
    "nterop": {
     "id": "2"
    }
   },
   "outputs": [],
   "source": [
    "import pandas as pd"
   ]
  },
  {
   "cell_type": "code",
   "execution_count": 47,
   "id": "42a1c486",
   "metadata": {
    "nterop": {
     "id": "3"
    }
   },
   "outputs": [
    {
     "name": "stdout",
     "output_type": "stream",
     "text": [
      "data.adj\n",
      "data.adv\n",
      "data.noun\n",
      "data.verb\n"
     ]
    }
   ],
   "source": [
    "my_dictionary = pd.DataFrame(columns = ['word', 'ss_type', 'definition'])\n",
    "filenames = ['data.adj', 'data.adv', 'data.noun', 'data.verb']\n",
    "for filename in filenames:\n",
    "    print(filename)\n",
    "    with open('datasets/WordNet/' + filename) as f:\n",
    "        lines = f.readlines()\n",
    "        for x in range(0,len(lines)):\n",
    "            tokens = lines[x].split()\n",
    "            ss_type = tokens[2]\n",
    "            w_cnt = int(tokens[3], 16)\n",
    "            definition = lines[x].split('|')[1].split(';')[0].strip()\n",
    "            df_temp = pd.DataFrame()\n",
    "            for i in range(0,w_cnt):\n",
    "                index = 4 + (i * 2)\n",
    "                df_temp.loc[i, 'word'] = tokens[index].lower()\n",
    "                df_temp.loc[i, 'ss_type'] = ss_type\n",
    "                df_temp.loc[i, 'definition'] = definition.lower()\n",
    "                my_dictionary = my_dictionary.append(df_temp, ignore_index=True)\n",
    "        f.close()"
   ]
  },
  {
   "cell_type": "code",
   "execution_count": 48,
   "id": "4ad8fad0",
   "metadata": {
    "nterop": {
     "id": "4"
    }
   },
   "outputs": [],
   "source": [
    "my_dictionary.drop_duplicates(inplace = True)"
   ]
  },
  {
   "cell_type": "code",
   "execution_count": 49,
   "id": "693c2b83",
   "metadata": {
    "nterop": {
     "id": "5"
    }
   },
   "outputs": [
    {
     "data": {
      "text/html": [
       "<div>\n",
       "<style scoped>\n",
       "    .dataframe tbody tr th:only-of-type {\n",
       "        vertical-align: middle;\n",
       "    }\n",
       "\n",
       "    .dataframe tbody tr th {\n",
       "        vertical-align: top;\n",
       "    }\n",
       "\n",
       "    .dataframe thead th {\n",
       "        text-align: right;\n",
       "    }\n",
       "</style>\n",
       "<table border=\"1\" class=\"dataframe\">\n",
       "  <thead>\n",
       "    <tr style=\"text-align: right;\">\n",
       "      <th></th>\n",
       "      <th>word</th>\n",
       "      <th>ss_type</th>\n",
       "      <th>definition</th>\n",
       "    </tr>\n",
       "  </thead>\n",
       "  <tbody>\n",
       "    <tr>\n",
       "      <th>0</th>\n",
       "      <td>able</td>\n",
       "      <td>a</td>\n",
       "      <td>(usually followed by `to') having the necessar...</td>\n",
       "    </tr>\n",
       "    <tr>\n",
       "      <th>1</th>\n",
       "      <td>unable</td>\n",
       "      <td>a</td>\n",
       "      <td>(usually followed by `to') not having the nece...</td>\n",
       "    </tr>\n",
       "    <tr>\n",
       "      <th>2</th>\n",
       "      <td>abaxial</td>\n",
       "      <td>a</td>\n",
       "      <td>facing away from the axis of an organ or organism</td>\n",
       "    </tr>\n",
       "    <tr>\n",
       "      <th>4</th>\n",
       "      <td>dorsal</td>\n",
       "      <td>a</td>\n",
       "      <td>facing away from the axis of an organ or organism</td>\n",
       "    </tr>\n",
       "    <tr>\n",
       "      <th>5</th>\n",
       "      <td>adaxial</td>\n",
       "      <td>a</td>\n",
       "      <td>nearest to or facing toward the axis of an org...</td>\n",
       "    </tr>\n",
       "    <tr>\n",
       "      <th>7</th>\n",
       "      <td>ventral</td>\n",
       "      <td>a</td>\n",
       "      <td>nearest to or facing toward the axis of an org...</td>\n",
       "    </tr>\n",
       "    <tr>\n",
       "      <th>8</th>\n",
       "      <td>acroscopic</td>\n",
       "      <td>a</td>\n",
       "      <td>facing or on the side toward the apex</td>\n",
       "    </tr>\n",
       "    <tr>\n",
       "      <th>9</th>\n",
       "      <td>basiscopic</td>\n",
       "      <td>a</td>\n",
       "      <td>facing or on the side toward the base</td>\n",
       "    </tr>\n",
       "    <tr>\n",
       "      <th>10</th>\n",
       "      <td>abducent</td>\n",
       "      <td>a</td>\n",
       "      <td>especially of muscles</td>\n",
       "    </tr>\n",
       "    <tr>\n",
       "      <th>12</th>\n",
       "      <td>abducting</td>\n",
       "      <td>a</td>\n",
       "      <td>especially of muscles</td>\n",
       "    </tr>\n",
       "    <tr>\n",
       "      <th>13</th>\n",
       "      <td>adducent</td>\n",
       "      <td>a</td>\n",
       "      <td>especially of muscles</td>\n",
       "    </tr>\n",
       "    <tr>\n",
       "      <th>15</th>\n",
       "      <td>adductive</td>\n",
       "      <td>a</td>\n",
       "      <td>especially of muscles</td>\n",
       "    </tr>\n",
       "    <tr>\n",
       "      <th>18</th>\n",
       "      <td>adducting</td>\n",
       "      <td>a</td>\n",
       "      <td>especially of muscles</td>\n",
       "    </tr>\n",
       "    <tr>\n",
       "      <th>19</th>\n",
       "      <td>nascent</td>\n",
       "      <td>a</td>\n",
       "      <td>being born or beginning</td>\n",
       "    </tr>\n",
       "    <tr>\n",
       "      <th>20</th>\n",
       "      <td>emergent</td>\n",
       "      <td>s</td>\n",
       "      <td>coming into existence</td>\n",
       "    </tr>\n",
       "    <tr>\n",
       "      <th>22</th>\n",
       "      <td>emerging</td>\n",
       "      <td>s</td>\n",
       "      <td>coming into existence</td>\n",
       "    </tr>\n",
       "    <tr>\n",
       "      <th>23</th>\n",
       "      <td>dissilient</td>\n",
       "      <td>s</td>\n",
       "      <td>bursting open with force, as do some ripe seed...</td>\n",
       "    </tr>\n",
       "    <tr>\n",
       "      <th>24</th>\n",
       "      <td>parturient</td>\n",
       "      <td>s</td>\n",
       "      <td>giving birth</td>\n",
       "    </tr>\n",
       "    <tr>\n",
       "      <th>25</th>\n",
       "      <td>dying</td>\n",
       "      <td>a</td>\n",
       "      <td>in or associated with the process of passing f...</td>\n",
       "    </tr>\n",
       "    <tr>\n",
       "      <th>26</th>\n",
       "      <td>moribund</td>\n",
       "      <td>s</td>\n",
       "      <td>being on the point of death</td>\n",
       "    </tr>\n",
       "    <tr>\n",
       "      <th>27</th>\n",
       "      <td>last</td>\n",
       "      <td>s</td>\n",
       "      <td>occurring at the time of death</td>\n",
       "    </tr>\n",
       "    <tr>\n",
       "      <th>28</th>\n",
       "      <td>abridged</td>\n",
       "      <td>a</td>\n",
       "      <td>(used of texts) shortened by condensing or rew...</td>\n",
       "    </tr>\n",
       "    <tr>\n",
       "      <th>29</th>\n",
       "      <td>cut</td>\n",
       "      <td>s</td>\n",
       "      <td>with parts removed</td>\n",
       "    </tr>\n",
       "    <tr>\n",
       "      <th>31</th>\n",
       "      <td>shortened</td>\n",
       "      <td>s</td>\n",
       "      <td>with parts removed</td>\n",
       "    </tr>\n",
       "    <tr>\n",
       "      <th>32</th>\n",
       "      <td>half-length</td>\n",
       "      <td>s</td>\n",
       "      <td>abridged to half its original length</td>\n",
       "    </tr>\n",
       "    <tr>\n",
       "      <th>33</th>\n",
       "      <td>potted</td>\n",
       "      <td>s</td>\n",
       "      <td>(british informal) summarized or abridged</td>\n",
       "    </tr>\n",
       "    <tr>\n",
       "      <th>34</th>\n",
       "      <td>unabridged</td>\n",
       "      <td>a</td>\n",
       "      <td>(used of texts) not shortened</td>\n",
       "    </tr>\n",
       "    <tr>\n",
       "      <th>35</th>\n",
       "      <td>full-length</td>\n",
       "      <td>s</td>\n",
       "      <td>complete</td>\n",
       "    </tr>\n",
       "    <tr>\n",
       "      <th>37</th>\n",
       "      <td>uncut</td>\n",
       "      <td>s</td>\n",
       "      <td>complete</td>\n",
       "    </tr>\n",
       "    <tr>\n",
       "      <th>38</th>\n",
       "      <td>absolute</td>\n",
       "      <td>a</td>\n",
       "      <td>perfect or complete or pure</td>\n",
       "    </tr>\n",
       "  </tbody>\n",
       "</table>\n",
       "</div>"
      ],
      "text/plain": [
       "           word ss_type                                         definition\n",
       "0          able       a  (usually followed by `to') having the necessar...\n",
       "1        unable       a  (usually followed by `to') not having the nece...\n",
       "2       abaxial       a  facing away from the axis of an organ or organism\n",
       "4        dorsal       a  facing away from the axis of an organ or organism\n",
       "5       adaxial       a  nearest to or facing toward the axis of an org...\n",
       "7       ventral       a  nearest to or facing toward the axis of an org...\n",
       "8    acroscopic       a              facing or on the side toward the apex\n",
       "9    basiscopic       a              facing or on the side toward the base\n",
       "10     abducent       a                              especially of muscles\n",
       "12    abducting       a                              especially of muscles\n",
       "13     adducent       a                              especially of muscles\n",
       "15    adductive       a                              especially of muscles\n",
       "18    adducting       a                              especially of muscles\n",
       "19      nascent       a                            being born or beginning\n",
       "20     emergent       s                              coming into existence\n",
       "22     emerging       s                              coming into existence\n",
       "23   dissilient       s  bursting open with force, as do some ripe seed...\n",
       "24   parturient       s                                       giving birth\n",
       "25        dying       a  in or associated with the process of passing f...\n",
       "26     moribund       s                        being on the point of death\n",
       "27         last       s                     occurring at the time of death\n",
       "28     abridged       a  (used of texts) shortened by condensing or rew...\n",
       "29          cut       s                                 with parts removed\n",
       "31    shortened       s                                 with parts removed\n",
       "32  half-length       s               abridged to half its original length\n",
       "33       potted       s          (british informal) summarized or abridged\n",
       "34   unabridged       a                      (used of texts) not shortened\n",
       "35  full-length       s                                           complete\n",
       "37        uncut       s                                           complete\n",
       "38     absolute       a                        perfect or complete or pure"
      ]
     },
     "execution_count": 49,
     "metadata": {
      "nterop": {
       "id": "6"
      }
     },
     "output_type": "execute_result"
    }
   ],
   "source": [
    "my_dictionary.head(30)"
   ]
  },
  {
   "cell_type": "code",
   "execution_count": 50,
   "id": "e6140a44",
   "metadata": {
    "nterop": {
     "id": "7"
    }
   },
   "outputs": [
    {
     "data": {
      "text/plain": [
       "(207195, 3)"
      ]
     },
     "execution_count": 50,
     "metadata": {
      "nterop": {
       "id": "8"
      }
     },
     "output_type": "execute_result"
    }
   ],
   "source": [
    "my_dictionary.shape"
   ]
  },
  {
   "cell_type": "code",
   "execution_count": 51,
   "id": "1b72572d",
   "metadata": {
    "nterop": {
     "id": "9"
    }
   },
   "outputs": [
    {
     "data": {
      "text/plain": [
       "array(['a', 's', 'r', 'n', 'v'], dtype=object)"
      ]
     },
     "execution_count": 51,
     "metadata": {
      "nterop": {
       "id": "10"
      }
     },
     "output_type": "execute_result"
    }
   ],
   "source": [
    "my_dictionary.ss_type.unique()\n",
    "# n    NOUN \n",
    "# v    VERB \n",
    "# a    ADJECTIVE \n",
    "# s    ADJECTIVE SATELLITE \n",
    "# r    ADVERB"
   ]
  },
  {
   "cell_type": "code",
   "execution_count": 52,
   "id": "56b7d431",
   "metadata": {
    "nterop": {
     "id": "11"
    }
   },
   "outputs": [
    {
     "data": {
      "text/plain": [
       "(147982, 116461)"
      ]
     },
     "execution_count": 52,
     "metadata": {
      "nterop": {
       "id": "12"
      }
     },
     "output_type": "execute_result"
    }
   ],
   "source": [
    "(my_dictionary.word.nunique(), my_dictionary.definition.nunique())"
   ]
  },
  {
   "cell_type": "code",
   "execution_count": 53,
   "id": "4f2ce86b",
   "metadata": {
    "nterop": {
     "id": "13"
    }
   },
   "outputs": [],
   "source": [
    "my_dictionary.to_pickle('datasets/WordNet/wordnet.pkl')"
   ]
  },
  {
   "cell_type": "code",
   "execution_count": null,
   "id": "70910d58",
   "metadata": {
    "nterop": {
     "id": "14"
    }
   },
   "outputs": [],
   "source": []
  }
 ],
 "metadata": {
  "hide_input": false,
  "kernelspec": {
   "display_name": "Python 3 (ipykernel)",
   "language": "python",
   "name": "python3"
  },
  "language_info": {
   "codemirror_mode": {
    "name": "ipython",
    "version": 3
   },
   "file_extension": ".py",
   "mimetype": "text/x-python",
   "name": "python",
   "nbconvert_exporter": "python",
   "pygments_lexer": "ipython3",
   "version": "3.7.12"
  },
  "nterop": {
   "seedId": "14"
  }
 },
 "nbformat": 4,
 "nbformat_minor": 5
}
