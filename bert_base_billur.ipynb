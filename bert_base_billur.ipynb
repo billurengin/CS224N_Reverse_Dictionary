{
 "cells": [
  {
   "attachments": {},
   "cell_type": "markdown",
   "metadata": {
    "id": "5w_b36kQeIVx",
    "nterop": {
     "id": "1"
    }
   },
   "source": [
    "**Training Bert Baseline**"
   ]
  },
  {
   "cell_type": "code",
   "execution_count": null,
   "metadata": {
    "nterop": {
     "id": "27"
    }
   },
   "outputs": [],
   "source": [
    "# !pip3 install transformers\n",
    "# !pip3 install --upgrade pandas==1.3.4"
   ]
  },
  {
   "cell_type": "code",
   "execution_count": 1,
   "metadata": {
    "colab": {
     "base_uri": "https://localhost:8080/"
    },
    "id": "zJMy_6u2SMkd",
    "nterop": {
     "id": "2"
    },
    "outputId": "c5985120-a1bd-4752-91f2-d24c14cf893c"
   },
   "outputs": [],
   "source": [
    "import pandas as pd\n",
    "import torch\n",
    "from transformers import BertModel\n",
    "from transformers import BertTokenizer"
   ]
  },
  {
   "cell_type": "code",
   "execution_count": 2,
   "metadata": {
    "id": "z1G1HsesTWjv",
    "nterop": {
     "id": "5"
    }
   },
   "outputs": [],
   "source": [
    "opted_data = pd.read_pickle('datasets/Opted/opted.pkl')\n",
    "wordnet_data = pd.read_pickle('datasets/WordNet/wordnet.pkl')\n",
    "combined_data = pd.concat([opted_data, wordnet_data])"
   ]
  },
  {
   "cell_type": "code",
   "execution_count": 3,
   "metadata": {
    "nterop": {
     "id": "32"
    }
   },
   "outputs": [],
   "source": [
    "# ## toy data\n",
    "# combined_data = combined_data[0:1000]"
   ]
  },
  {
   "cell_type": "code",
   "execution_count": 4,
   "metadata": {
    "colab": {
     "base_uri": "https://localhost:8080/"
    },
    "id": "YeyieDwaTXA5",
    "nterop": {
     "id": "6"
    },
    "outputId": "1b86e700-5b5f-4721-fa52-99c6122d3547"
   },
   "outputs": [
    {
     "name": "stdout",
     "output_type": "stream",
     "text": [
      "There are 4 GPU(s) available.\n",
      "We will use the GPU: Tesla T4\n"
     ]
    }
   ],
   "source": [
    "if torch.cuda.is_available():    \n",
    "\n",
    "    # Tell PyTorch to use the GPU.    \n",
    "    device = torch.device(\"cuda\")\n",
    "\n",
    "    print('There are %d GPU(s) available.' % torch.cuda.device_count())\n",
    "\n",
    "    print('We will use the GPU:', torch.cuda.get_device_name(0))\n",
    "\n",
    "# If not...\n",
    "else:\n",
    "    print('No GPU available, using the CPU instead.')\n",
    "    device = torch.device(\"cpu\")"
   ]
  },
  {
   "cell_type": "code",
   "execution_count": 5,
   "metadata": {
    "colab": {
     "base_uri": "https://localhost:8080/"
    },
    "id": "rOlWodtySoFk",
    "nterop": {
     "id": "7"
    },
    "outputId": "1f5139ec-c3ec-4a33-dffe-f4d5dcc0cf60"
   },
   "outputs": [
    {
     "name": "stdout",
     "output_type": "stream",
     "text": [
      "Loading BERT tokenizer...\n"
     ]
    }
   ],
   "source": [
    "# Load the BERT tokenizer.\n",
    "print('Loading BERT tokenizer...')\n",
    "tokenizer = BertTokenizer.from_pretrained('bert-base-uncased', do_lower_case=True)"
   ]
  },
  {
   "attachments": {},
   "cell_type": "markdown",
   "metadata": {
    "id": "yql3vboogD7D",
    "nterop": {
     "id": "10"
    }
   },
   "source": []
  },
  {
   "cell_type": "code",
   "execution_count": 6,
   "metadata": {
    "colab": {
     "base_uri": "https://localhost:8080/"
    },
    "id": "6kIQY839TqtQ",
    "nterop": {
     "id": "11"
    },
    "outputId": "dc683c60-e9ea-41a3-de4f-a42d42fd6e34"
   },
   "outputs": [
    {
     "name": "stderr",
     "output_type": "stream",
     "text": [
      "Truncation was not explicitly activated but `max_length` is provided a specific value, please use `truncation=True` to explicitly truncate examples to max length. Defaulting to 'longest_first' truncation strategy. If you encode pairs of sequences (GLUE-style) with the tokenizer you can select this strategy more precisely by providing a specific strategy to `truncation`.\n",
      "/apps/python3/lib/python3.7/site-packages/transformers/tokenization_utils_base.py:2257: FutureWarning: The `pad_to_max_length` argument is deprecated and will be removed in a future version, use `padding=True` or `padding='longest'` to pad to the longest sequence in the batch, or use `padding='max_length'` to pad to a max length. In this case, you can give a specific length with `max_length` (e.g. `max_length=45`) or leave max_length to None to pad to the maximal input size of the model (e.g. 512 for Bert).\n",
      "  FutureWarning,\n"
     ]
    }
   ],
   "source": [
    "# Tokenize all of the sentences and map the tokens to thier word IDs.\n",
    "input_ids = []\n",
    "attention_masks = []\n",
    "\n",
    "# For every sentence...\n",
    "for sent in combined_data['definition']:\n",
    "    # `encode_plus` will:\n",
    "    #   (1) Tokenize the sentence.\n",
    "    #   (2) Prepend the `[CLS]` token to the start.\n",
    "    #   (3) Append the `[SEP]` token to the end.\n",
    "    #   (4) Map tokens to their IDs.\n",
    "    #   (5) Pad or truncate the sentence to `max_length`\n",
    "    #   (6) Create attention masks for [PAD] tokens.\n",
    "    encoded_dict = tokenizer.encode_plus(\n",
    "                        sent,                      # Sentence to encode.\n",
    "                        add_special_tokens = True, # Add '[CLS]' and '[SEP]'\n",
    "                        max_length = 200,           # Pad & truncate all sentences. Max length is 291 but most are not that long\n",
    "                        pad_to_max_length = True,\n",
    "                        return_attention_mask = True,   # Construct attn. masks.\n",
    "                        return_tensors = 'pt',     # Return pytorch tensors.\n",
    "                   )\n",
    "    \n",
    "    # Add the encoded sentence to the list.    \n",
    "    input_ids.append(encoded_dict['input_ids'])\n",
    "    \n",
    "    # And its attention mask (simply differentiates padding from non-padding).\n",
    "    attention_masks.append(encoded_dict['attention_mask'])"
   ]
  },
  {
   "cell_type": "code",
   "execution_count": 7,
   "metadata": {
    "id": "4GF_4jOHTvDz",
    "nterop": {
     "id": "12"
    }
   },
   "outputs": [],
   "source": [
    "# Convert the lists into tensors.\n",
    "input_ids = torch.cat(input_ids, dim=0)\n",
    "attention_masks = torch.cat(attention_masks, dim=0)"
   ]
  },
  {
   "cell_type": "code",
   "execution_count": 8,
   "metadata": {
    "id": "ipWG1jupceQH",
    "nterop": {
     "id": "13"
    }
   },
   "outputs": [],
   "source": [
    "torch.save(input_ids, 'input_ids')\n",
    "torch.save(attention_masks, 'attention_masks')"
   ]
  },
  {
   "cell_type": "code",
   "execution_count": 9,
   "metadata": {
    "id": "-Ir-DXIlUDmF",
    "nterop": {
     "id": "14"
    }
   },
   "outputs": [],
   "source": [
    "# All 400000 embeddings, each lengh 60\n",
    "from gensim.models import FastText\n",
    "Fastext_model = FastText.load(\"datasets/fastext_embeddings\")"
   ]
  },
  {
   "cell_type": "code",
   "execution_count": 10,
   "metadata": {
    "id": "zk9975YQVKbo",
    "nterop": {
     "id": "15"
    }
   },
   "outputs": [],
   "source": [
    "import numpy as np\n",
    "labels = []\n",
    "count = 0\n",
    "for word in combined_data['word']:\n",
    "    label = Fastext_model.wv[word]\n",
    "    labels.append(label)\n",
    "labels = np.array(labels)\n",
    "labels = torch.tensor(labels)"
   ]
  },
  {
   "cell_type": "code",
   "execution_count": 11,
   "metadata": {
    "colab": {
     "base_uri": "https://localhost:8080/"
    },
    "id": "2jJrnvjwecA3",
    "nterop": {
     "id": "16"
    },
    "outputId": "d1e9f086-4c7a-4350-ae5c-4786f7279e4a"
   },
   "outputs": [
    {
     "name": "stdout",
     "output_type": "stream",
     "text": [
      "Original:  the first letter of the english and of many other alphabets. the capital a of the alphabets of middle and western europe, as also the small letter (a), besides the forms in italic, black letter, etc., are all descended from the old latin a, which was borrowed from the greek alpha, of the same form; and this was made from the first letter (/) of the phoenician alphabet, the equivalent of the hebrew aleph, and itself from the egyptian origin. the aleph was a consonant letter, with a guttural breath sound that was not an element of greek articulation; and the greeks took it to represent their vowel alpha with the a sound, the phoenician alphabet having no vowel symbols.\n",
      "Token IDs: tensor([  101,  1996,  2034,  3661,  1997,  1996,  2394,  1998,  1997,  2116,\n",
      "         2060, 12440,  2015,  1012,  1996,  3007,  1037,  1997,  1996, 12440,\n",
      "         2015,  1997,  2690,  1998,  2530,  2885,  1010,  2004,  2036,  1996,\n",
      "         2235,  3661,  1006,  1037,  1007,  1010,  4661,  1996,  3596,  1999,\n",
      "         2009, 27072,  1010,  2304,  3661,  1010,  4385,  1012,  1010,  2024,\n",
      "         2035,  9287,  2013,  1996,  2214,  3763,  1037,  1010,  2029,  2001,\n",
      "        11780,  2013,  1996,  3306,  6541,  1010,  1997,  1996,  2168,  2433,\n",
      "         1025,  1998,  2023,  2001,  2081,  2013,  1996,  2034,  3661,  1006,\n",
      "         1013,  1007,  1997,  1996,  6887,  8913,  8713,  2937, 12440,  1010,\n",
      "         1996,  5662,  1997,  1996,  6836, 15669,  8458,  1010,  1998,  2993,\n",
      "         2013,  1996,  6811,  4761,  1012,  1996, 15669,  8458,  2001,  1037,\n",
      "        18265,  3661,  1010,  2007,  1037,  9535, 27431,  2140,  3052,  2614,\n",
      "         2008,  2001,  2025,  2019,  5783,  1997,  3306,  2396,  2594,  9513,\n",
      "         1025,  1998,  1996, 13176,  2165,  2009,  2000,  5050,  2037, 12710,\n",
      "         6541,  2007,  1996,  1037,  2614,  1010,  1996,  6887,  8913,  8713,\n",
      "         2937, 12440,  2383,  2053, 12710,  9255,  1012,   102,     0,     0,\n",
      "            0,     0,     0,     0,     0,     0,     0,     0,     0,     0,\n",
      "            0,     0,     0,     0,     0,     0,     0,     0,     0,     0,\n",
      "            0,     0,     0,     0,     0,     0,     0,     0,     0,     0,\n",
      "            0,     0,     0,     0,     0,     0,     0,     0,     0,     0])\n",
      "Embedding:  tensor([ 1.2339e-02, -1.4216e-02, -5.9376e-03,  1.6315e-02,  1.2523e-02,\n",
      "        -1.5445e-02, -1.4832e-03,  1.5830e-02,  2.0290e-03, -4.4378e-05,\n",
      "        -1.6140e-02,  1.2934e-02,  5.5320e-03, -8.9691e-03,  1.5245e-02,\n",
      "         9.4689e-03, -7.2095e-03, -1.3839e-02, -2.1207e-03,  5.5549e-03,\n",
      "        -1.5184e-02,  8.9563e-03, -1.3112e-02,  6.0559e-03, -1.0776e-02,\n",
      "         1.1507e-02, -1.4942e-02,  1.7526e-03, -1.6522e-02, -7.0094e-03,\n",
      "        -1.4140e-02,  1.3954e-03, -6.5030e-03,  5.7398e-03,  1.3945e-02,\n",
      "         7.9778e-03,  3.2896e-03, -5.9336e-03,  1.6253e-03, -1.5065e-02,\n",
      "        -1.4232e-02, -9.7840e-03, -3.5217e-03, -3.4196e-03,  4.5258e-03,\n",
      "        -9.0849e-03,  1.3914e-02,  1.2430e-03, -5.5472e-06,  5.6945e-03,\n",
      "        -3.1665e-03, -1.3113e-02,  1.5501e-02, -1.2737e-02,  1.1957e-03,\n",
      "        -5.3026e-04,  7.0672e-03,  4.7454e-04, -4.0598e-03, -1.1932e-02])\n"
     ]
    }
   ],
   "source": [
    "print('Original: ', combined_data['definition'].iloc[0])\n",
    "print('Token IDs:', input_ids[0])\n",
    "print('Embedding: ', labels[0])"
   ]
  },
  {
   "cell_type": "code",
   "execution_count": 12,
   "metadata": {
    "colab": {
     "base_uri": "https://localhost:8080/"
    },
    "id": "qi1DQTf0eloY",
    "nterop": {
     "id": "17"
    },
    "outputId": "4010a4fb-e7fc-48e1-f0b5-0dfbe89d3149"
   },
   "outputs": [
    {
     "name": "stdout",
     "output_type": "stream",
     "text": [
      "233,436 training samples\n",
      "58,360 validation samples\n"
     ]
    }
   ],
   "source": [
    "from torch.utils.data import TensorDataset, random_split\n",
    "\n",
    "# Combine the training inputs into a TensorDataset.\n",
    "dataset = TensorDataset(input_ids, attention_masks, labels)\n",
    "\n",
    "# Create a 80-20 train-validation split.\n",
    "\n",
    "# Calculate the number of samples to include in each set.\n",
    "train_size = int(0.8 * len(dataset))\n",
    "val_size = len(dataset) - train_size\n",
    "\n",
    "# Divide the dataset by randomly selecting samples.\n",
    "train_dataset, val_dataset = random_split(dataset, [train_size, val_size], generator=torch.Generator().manual_seed(224))\n",
    "\n",
    "print('{:>5,} training samples'.format(train_size))\n",
    "print('{:>5,} validation samples'.format(val_size))"
   ]
  },
  {
   "cell_type": "code",
   "execution_count": 13,
   "metadata": {
    "id": "NsrlS1jLe3nJ",
    "nterop": {
     "id": "18"
    }
   },
   "outputs": [],
   "source": [
    "from torch.utils.data import DataLoader, RandomSampler, SequentialSampler\n",
    "\n",
    "# The DataLoader needs to know our batch size for training, so we specify it \n",
    "# here. For fine-tuning BERT on a specific task, the authors recommend a batch \n",
    "# size of 16 or 32.\n",
    "batch_size = 16\n",
    "\n",
    "# Create the DataLoaders for our training and validation sets.\n",
    "# We'll take training samples in random order. \n",
    "train_dataloader = DataLoader(\n",
    "            train_dataset,  # The training samples.\n",
    "            sampler = RandomSampler(train_dataset, generator=torch.Generator().manual_seed(224)), # Select batches pseudo randomly\n",
    "            batch_size = batch_size # Trains with this batch size.\n",
    "        )\n",
    "\n",
    "# For validation the order doesn't matter, so we'll just read them sequentially.\n",
    "validation_dataloader = DataLoader(\n",
    "            val_dataset, # The validation samples.\n",
    "            sampler = SequentialSampler(val_dataset), # Pull out batches sequentially.\n",
    "            batch_size = batch_size # Evaluate with this batch size.\n",
    "        )"
   ]
  },
  {
   "cell_type": "code",
   "execution_count": 14,
   "metadata": {
    "nterop": {
     "id": "37"
    }
   },
   "outputs": [],
   "source": [
    "## Bert hidden layer size = 768\n",
    "## max sequence length = 200 "
   ]
  },
  {
   "cell_type": "code",
   "execution_count": 15,
   "metadata": {
    "colab": {
     "base_uri": "https://localhost:8080/"
    },
    "id": "M1uFoEShe73S",
    "nterop": {
     "id": "19"
    },
    "outputId": "45e82bee-1fc6-4a3b-c745-03967e1c4741"
   },
   "outputs": [
    {
     "name": "stderr",
     "output_type": "stream",
     "text": [
      "Some weights of the model checkpoint at bert-base-uncased were not used when initializing BertModel: ['cls.seq_relationship.weight', 'cls.seq_relationship.bias', 'cls.predictions.transform.dense.bias', 'cls.predictions.decoder.weight', 'cls.predictions.transform.dense.weight', 'cls.predictions.transform.LayerNorm.weight', 'cls.predictions.transform.LayerNorm.bias', 'cls.predictions.bias']\n",
      "- This IS expected if you are initializing BertModel from the checkpoint of a model trained on another task or with another architecture (e.g. initializing a BertForSequenceClassification model from a BertForPreTraining model).\n",
      "- This IS NOT expected if you are initializing BertModel from the checkpoint of a model that you expect to be exactly identical (initializing a BertForSequenceClassification model from a BertForSequenceClassification model).\n"
     ]
    },
    {
     "data": {
      "text/plain": [
       "Sequential(\n",
       "  (0): Linear(in_features=153600, out_features=1024, bias=True)\n",
       "  (1): ReLU()\n",
       "  (2): LayerNorm((1024,), eps=1e-05, elementwise_affine=True)\n",
       "  (3): Linear(in_features=1024, out_features=256, bias=True)\n",
       "  (4): ReLU()\n",
       "  (5): LayerNorm((256,), eps=1e-05, elementwise_affine=True)\n",
       "  (6): Linear(in_features=256, out_features=60, bias=True)\n",
       "  (7): Softmax(dim=None)\n",
       ")"
      ]
     },
     "execution_count": 15,
     "metadata": {
      "nterop": {
       "id": "38"
      }
     },
     "output_type": "execute_result"
    }
   ],
   "source": [
    "bert_layer = BertModel.from_pretrained('bert-base-uncased')\n",
    "bert_layer.cuda()\n",
    "model = torch.nn.Sequential(\n",
    "        torch.nn.Linear(bert_layer.config.hidden_size * 200, 1024), ## gradual dimensionality reduction\n",
    "        torch.nn.ReLU(), \n",
    "        torch.nn.LayerNorm(1024),\n",
    "        torch.nn.Linear(1024, 256),\n",
    "        torch.nn.ReLU(), \n",
    "        torch.nn.LayerNorm(256),\n",
    "        torch.nn.Linear(256, 60),\n",
    "        torch.nn.Softmax())\n",
    "model.cuda()"
   ]
  },
  {
   "cell_type": "code",
   "execution_count": 16,
   "metadata": {
    "colab": {
     "base_uri": "https://localhost:8080/"
    },
    "id": "rNidMtV5gTTa",
    "nterop": {
     "id": "21"
    },
    "outputId": "17e023e2-637c-4cd8-ab3b-1a7a7a741616"
   },
   "outputs": [
    {
     "name": "stderr",
     "output_type": "stream",
     "text": [
      "2022-02-27 04:49:09.636460: I tensorflow/stream_executor/platform/default/dso_loader.cc:49] Successfully opened dynamic library libcudart.so.11.0\n",
      "/apps/python3/lib/python3.7/site-packages/transformers/optimization.py:309: FutureWarning: This implementation of AdamW is deprecated and will be removed in a future version. Use thePyTorch implementation torch.optim.AdamW instead, or set `no_deprecation_warning=True` to disable this warning\n",
      "  FutureWarning,\n"
     ]
    }
   ],
   "source": [
    "from transformers import AdamW, BertConfig\n",
    "\n",
    "# Note: AdamW is a class from the huggingface library (as opposed to pytorch) \n",
    "# I believe the 'W' stands for 'Weight Decay fix\"\n",
    "optimizer = AdamW(model.parameters(),\n",
    "                  lr = 2e-5, # args.learning_rate - default is 5e-5, our notebook had 2e-5\n",
    "                  eps = 1e-8 # args.adam_epsilon  - default is 1e-8.\n",
    "                )"
   ]
  },
  {
   "cell_type": "code",
   "execution_count": 17,
   "metadata": {
    "id": "kVlSlZYMgbpj",
    "nterop": {
     "id": "22"
    }
   },
   "outputs": [],
   "source": [
    "from transformers import get_linear_schedule_with_warmup\n",
    "\n",
    "# Number of training epochs. The BERT authors recommend between 2 and 4. \n",
    "epochs = 2\n",
    "\n",
    "# Total number of training steps is [number of batches] x [number of epochs]. \n",
    "# (Note that this is not the same as the number of training samples).\n",
    "total_steps = len(train_dataloader) * epochs\n",
    "\n",
    "# Create the learning rate scheduler.\n",
    "scheduler = get_linear_schedule_with_warmup(optimizer, \n",
    "                                            num_warmup_steps = 0, # Default value in run_glue.py\n",
    "                                            num_training_steps = total_steps)"
   ]
  },
  {
   "cell_type": "code",
   "execution_count": 18,
   "metadata": {
    "id": "QuiScecEgksB",
    "nterop": {
     "id": "23"
    }
   },
   "outputs": [],
   "source": [
    "# Function to calculate the accuracy of our predictions vs labels\n",
    "def flat_accuracy(preds, labels):\n",
    "    pred_flat = np.argmax(preds, axis=1).flatten()\n",
    "    labels_flat = labels.flatten()\n",
    "    return np.sum(pred_flat == labels_flat) / len(labels_flat)"
   ]
  },
  {
   "cell_type": "code",
   "execution_count": 19,
   "metadata": {
    "id": "yeUlK35Ngl9l",
    "nterop": {
     "id": "24"
    }
   },
   "outputs": [],
   "source": [
    "import time\n",
    "import datetime\n",
    "\n",
    "def format_time(elapsed):\n",
    "    '''\n",
    "    Takes a time in seconds and returns a string hh:mm:ss\n",
    "    '''\n",
    "    # Round to the nearest second.\n",
    "    elapsed_rounded = int(round((elapsed)))\n",
    "    \n",
    "    # Format as hh:mm:ss\n",
    "    return str(datetime.timedelta(seconds=elapsed_rounded))"
   ]
  },
  {
   "cell_type": "code",
   "execution_count": 20,
   "metadata": {
    "id": "X9EzOf6QhWhu",
    "nterop": {
     "id": "25"
    }
   },
   "outputs": [],
   "source": [
    "loss_fn = torch.nn.MSELoss(reduction='sum')"
   ]
  },
  {
   "cell_type": "code",
   "execution_count": 21,
   "metadata": {
    "colab": {
     "base_uri": "https://localhost:8080/"
    },
    "id": "1dj0kZ9QgnDe",
    "nterop": {
     "id": "26"
    },
    "outputId": "024a060a-2e17-4eec-d0b3-10be22951c4a",
    "scrolled": true
   },
   "outputs": [
    {
     "name": "stdout",
     "output_type": "stream",
     "text": [
      "\n",
      "======== Epoch 1 / 2 ========\n",
      "Training...\n"
     ]
    },
    {
     "name": "stderr",
     "output_type": "stream",
     "text": [
      "/apps/python3/lib/python3.7/site-packages/torch/nn/modules/container.py:117: UserWarning: Implicit dimension choice for softmax has been deprecated. Change the call to include dim=X as an argument.\n",
      "  input = module(input)\n"
     ]
    },
    {
     "name": "stdout",
     "output_type": "stream",
     "text": [
      "  Batch    50  of  14,590.    Elapsed: 0:00:27.\n",
      "  Batch   100  of  14,590.    Elapsed: 0:00:59.\n",
      "  Batch   150  of  14,590.    Elapsed: 0:01:30.\n",
      "  Batch   200  of  14,590.    Elapsed: 0:02:02.\n",
      "  Batch   250  of  14,590.    Elapsed: 0:02:34.\n",
      "  Batch   300  of  14,590.    Elapsed: 0:03:05.\n",
      "  Batch   350  of  14,590.    Elapsed: 0:03:36.\n",
      "  Batch   400  of  14,590.    Elapsed: 0:04:08.\n",
      "  Batch   450  of  14,590.    Elapsed: 0:04:40.\n",
      "  Batch   500  of  14,590.    Elapsed: 0:05:11.\n",
      "  Batch   550  of  14,590.    Elapsed: 0:05:43.\n",
      "  Batch   600  of  14,590.    Elapsed: 0:06:15.\n",
      "  Batch   650  of  14,590.    Elapsed: 0:06:47.\n",
      "  Batch   700  of  14,590.    Elapsed: 0:07:19.\n",
      "  Batch   750  of  14,590.    Elapsed: 0:07:50.\n",
      "  Batch   800  of  14,590.    Elapsed: 0:08:21.\n",
      "  Batch   850  of  14,590.    Elapsed: 0:08:53.\n",
      "  Batch   900  of  14,590.    Elapsed: 0:09:24.\n",
      "  Batch   950  of  14,590.    Elapsed: 0:09:56.\n",
      "  Batch 1,000  of  14,590.    Elapsed: 0:10:27.\n",
      "  Batch 1,050  of  14,590.    Elapsed: 0:10:59.\n",
      "  Batch 1,100  of  14,590.    Elapsed: 0:11:31.\n",
      "  Batch 1,150  of  14,590.    Elapsed: 0:12:02.\n",
      "  Batch 1,200  of  14,590.    Elapsed: 0:12:34.\n",
      "  Batch 1,250  of  14,590.    Elapsed: 0:13:05.\n",
      "  Batch 1,300  of  14,590.    Elapsed: 0:13:36.\n",
      "  Batch 1,350  of  14,590.    Elapsed: 0:14:08.\n",
      "  Batch 1,400  of  14,590.    Elapsed: 0:14:39.\n",
      "  Batch 1,450  of  14,590.    Elapsed: 0:15:11.\n",
      "  Batch 1,500  of  14,590.    Elapsed: 0:15:43.\n",
      "  Batch 1,550  of  14,590.    Elapsed: 0:16:15.\n",
      "  Batch 1,600  of  14,590.    Elapsed: 0:16:47.\n",
      "  Batch 1,650  of  14,590.    Elapsed: 0:17:19.\n",
      "  Batch 1,700  of  14,590.    Elapsed: 0:17:50.\n",
      "  Batch 1,750  of  14,590.    Elapsed: 0:18:21.\n",
      "  Batch 1,800  of  14,590.    Elapsed: 0:18:53.\n",
      "  Batch 1,850  of  14,590.    Elapsed: 0:19:24.\n",
      "  Batch 1,900  of  14,590.    Elapsed: 0:19:56.\n",
      "  Batch 1,950  of  14,590.    Elapsed: 0:20:27.\n",
      "  Batch 2,000  of  14,590.    Elapsed: 0:20:59.\n",
      "  Batch 2,050  of  14,590.    Elapsed: 0:21:31.\n",
      "  Batch 2,100  of  14,590.    Elapsed: 0:22:03.\n",
      "  Batch 2,150  of  14,590.    Elapsed: 0:22:35.\n",
      "  Batch 2,200  of  14,590.    Elapsed: 0:23:06.\n",
      "  Batch 2,250  of  14,590.    Elapsed: 0:23:38.\n",
      "  Batch 2,300  of  14,590.    Elapsed: 0:24:09.\n",
      "  Batch 2,350  of  14,590.    Elapsed: 0:24:41.\n",
      "  Batch 2,400  of  14,590.    Elapsed: 0:25:13.\n",
      "  Batch 2,450  of  14,590.    Elapsed: 0:25:44.\n",
      "  Batch 2,500  of  14,590.    Elapsed: 0:26:16.\n",
      "  Batch 2,550  of  14,590.    Elapsed: 0:26:47.\n",
      "  Batch 2,600  of  14,590.    Elapsed: 0:27:18.\n",
      "  Batch 2,650  of  14,590.    Elapsed: 0:27:50.\n",
      "  Batch 2,700  of  14,590.    Elapsed: 0:28:21.\n",
      "  Batch 2,750  of  14,590.    Elapsed: 0:28:53.\n",
      "  Batch 2,800  of  14,590.    Elapsed: 0:29:24.\n",
      "  Batch 2,850  of  14,590.    Elapsed: 0:29:56.\n",
      "  Batch 2,900  of  14,590.    Elapsed: 0:30:28.\n",
      "  Batch 2,950  of  14,590.    Elapsed: 0:31:00.\n",
      "  Batch 3,000  of  14,590.    Elapsed: 0:31:32.\n",
      "  Batch 3,050  of  14,590.    Elapsed: 0:32:05.\n",
      "  Batch 3,100  of  14,590.    Elapsed: 0:32:37.\n",
      "  Batch 3,150  of  14,590.    Elapsed: 0:33:08.\n",
      "  Batch 3,200  of  14,590.    Elapsed: 0:33:39.\n",
      "  Batch 3,250  of  14,590.    Elapsed: 0:34:10.\n",
      "  Batch 3,300  of  14,590.    Elapsed: 0:34:42.\n",
      "  Batch 3,350  of  14,590.    Elapsed: 0:35:13.\n",
      "  Batch 3,400  of  14,590.    Elapsed: 0:35:45.\n",
      "  Batch 3,450  of  14,590.    Elapsed: 0:36:16.\n",
      "  Batch 3,500  of  14,590.    Elapsed: 0:36:48.\n",
      "  Batch 3,550  of  14,590.    Elapsed: 0:37:20.\n",
      "  Batch 3,600  of  14,590.    Elapsed: 0:37:51.\n",
      "  Batch 3,650  of  14,590.    Elapsed: 0:38:23.\n",
      "  Batch 3,700  of  14,590.    Elapsed: 0:38:54.\n",
      "  Batch 3,750  of  14,590.    Elapsed: 0:39:25.\n",
      "  Batch 3,850  of  14,590.    Elapsed: 0:40:28.\n",
      "  Batch 3,900  of  14,590.    Elapsed: 0:41:00.\n",
      "  Batch 3,950  of  14,590.    Elapsed: 0:41:32.\n",
      "  Batch 4,000  of  14,590.    Elapsed: 0:42:04.\n",
      "  Batch 4,050  of  14,590.    Elapsed: 0:42:35.\n",
      "  Batch 4,100  of  14,590.    Elapsed: 0:43:06.\n",
      "  Batch 4,150  of  14,590.    Elapsed: 0:43:38.\n",
      "  Batch 4,200  of  14,590.    Elapsed: 0:44:09.\n",
      "  Batch 4,250  of  14,590.    Elapsed: 0:44:40.\n",
      "  Batch 4,300  of  14,590.    Elapsed: 0:45:11.\n",
      "  Batch 4,350  of  14,590.    Elapsed: 0:45:43.\n",
      "  Batch 4,400  of  14,590.    Elapsed: 0:46:15.\n",
      "  Batch 4,450  of  14,590.    Elapsed: 0:46:46.\n",
      "  Batch 4,500  of  14,590.    Elapsed: 0:47:18.\n",
      "  Batch 4,550  of  14,590.    Elapsed: 0:47:50.\n",
      "  Batch 4,600  of  14,590.    Elapsed: 0:48:21.\n",
      "  Batch 4,650  of  14,590.    Elapsed: 0:48:52.\n",
      "  Batch 4,700  of  14,590.    Elapsed: 0:49:23.\n",
      "  Batch 4,750  of  14,590.    Elapsed: 0:49:55.\n",
      "  Batch 4,800  of  14,590.    Elapsed: 0:50:26.\n",
      "  Batch 4,850  of  14,590.    Elapsed: 0:50:57.\n",
      "  Batch 4,900  of  14,590.    Elapsed: 0:51:29.\n",
      "  Batch 4,950  of  14,590.    Elapsed: 0:52:00.\n",
      "  Batch 5,000  of  14,590.    Elapsed: 0:52:31.\n",
      "  Batch 5,050  of  14,590.    Elapsed: 0:53:02.\n",
      "  Batch 5,100  of  14,590.    Elapsed: 0:53:33.\n",
      "  Batch 5,150  of  14,590.    Elapsed: 0:54:04.\n",
      "  Batch 5,200  of  14,590.    Elapsed: 0:54:36.\n",
      "  Batch 5,250  of  14,590.    Elapsed: 0:55:07.\n",
      "  Batch 5,300  of  14,590.    Elapsed: 0:55:38.\n",
      "  Batch 5,350  of  14,590.    Elapsed: 0:56:10.\n",
      "  Batch 5,400  of  14,590.    Elapsed: 0:56:42.\n",
      "  Batch 5,450  of  14,590.    Elapsed: 0:57:14.\n",
      "  Batch 5,500  of  14,590.    Elapsed: 0:57:46.\n",
      "  Batch 5,550  of  14,590.    Elapsed: 0:58:18.\n",
      "  Batch 5,600  of  14,590.    Elapsed: 0:58:49.\n",
      "  Batch 5,650  of  14,590.    Elapsed: 0:59:21.\n",
      "  Batch 5,700  of  14,590.    Elapsed: 0:59:52.\n",
      "  Batch 5,750  of  14,590.    Elapsed: 1:00:23.\n",
      "  Batch 5,800  of  14,590.    Elapsed: 1:00:55.\n",
      "  Batch 5,850  of  14,590.    Elapsed: 1:01:26.\n",
      "  Batch 5,900  of  14,590.    Elapsed: 1:01:57.\n",
      "  Batch 5,950  of  14,590.    Elapsed: 1:02:28.\n",
      "  Batch 6,000  of  14,590.    Elapsed: 1:02:59.\n",
      "  Batch 6,050  of  14,590.    Elapsed: 1:03:31.\n",
      "  Batch 6,100  of  14,590.    Elapsed: 1:04:02.\n",
      "  Batch 6,150  of  14,590.    Elapsed: 1:04:33.\n",
      "  Batch 6,200  of  14,590.    Elapsed: 1:05:04.\n",
      "  Batch 6,250  of  14,590.    Elapsed: 1:05:35.\n",
      "  Batch 6,300  of  14,590.    Elapsed: 1:06:07.\n",
      "  Batch 6,350  of  14,590.    Elapsed: 1:06:38.\n",
      "  Batch 6,400  of  14,590.    Elapsed: 1:07:09.\n",
      "  Batch 6,450  of  14,590.    Elapsed: 1:07:41.\n",
      "  Batch 6,500  of  14,590.    Elapsed: 1:08:12.\n",
      "  Batch 6,550  of  14,590.    Elapsed: 1:08:44.\n",
      "  Batch 6,600  of  14,590.    Elapsed: 1:09:16.\n",
      "  Batch 6,650  of  14,590.    Elapsed: 1:09:49.\n",
      "  Batch 6,700  of  14,590.    Elapsed: 1:10:22.\n",
      "  Batch 6,750  of  14,590.    Elapsed: 1:10:55.\n",
      "  Batch 6,800  of  14,590.    Elapsed: 1:11:28.\n",
      "  Batch 6,850  of  14,590.    Elapsed: 1:12:01.\n",
      "  Batch 6,900  of  14,590.    Elapsed: 1:12:33.\n",
      "  Batch 6,950  of  14,590.    Elapsed: 1:13:05.\n",
      "  Batch 7,000  of  14,590.    Elapsed: 1:13:36.\n",
      "  Batch 7,050  of  14,590.    Elapsed: 1:14:07.\n",
      "  Batch 7,100  of  14,590.    Elapsed: 1:14:39.\n",
      "  Batch 7,150  of  14,590.    Elapsed: 1:15:10.\n",
      "  Batch 7,200  of  14,590.    Elapsed: 1:15:41.\n",
      "  Batch 7,250  of  14,590.    Elapsed: 1:16:12.\n",
      "  Batch 7,300  of  14,590.    Elapsed: 1:16:43.\n",
      "  Batch 7,350  of  14,590.    Elapsed: 1:17:15.\n",
      "  Batch 7,400  of  14,590.    Elapsed: 1:17:46.\n",
      "  Batch 7,450  of  14,590.    Elapsed: 1:18:17.\n",
      "  Batch 7,500  of  14,590.    Elapsed: 1:18:48.\n",
      "  Batch 7,550  of  14,590.    Elapsed: 1:19:20.\n",
      "  Batch 7,600  of  14,590.    Elapsed: 1:19:51.\n",
      "  Batch 7,650  of  14,590.    Elapsed: 1:20:22.\n",
      "  Batch 7,700  of  14,590.    Elapsed: 1:20:54.\n",
      "  Batch 7,750  of  14,590.    Elapsed: 1:21:25.\n",
      "  Batch 7,800  of  14,590.    Elapsed: 1:21:57.\n",
      "  Batch 7,850  of  14,590.    Elapsed: 1:22:29.\n",
      "  Batch 7,900  of  14,590.    Elapsed: 1:23:00.\n",
      "  Batch 7,950  of  14,590.    Elapsed: 1:23:32.\n",
      "  Batch 8,000  of  14,590.    Elapsed: 1:24:03.\n",
      "  Batch 8,050  of  14,590.    Elapsed: 1:24:34.\n",
      "  Batch 8,100  of  14,590.    Elapsed: 1:25:05.\n",
      "  Batch 8,150  of  14,590.    Elapsed: 1:25:37.\n",
      "  Batch 8,200  of  14,590.    Elapsed: 1:26:08.\n",
      "  Batch 8,250  of  14,590.    Elapsed: 1:26:40.\n",
      "  Batch 8,300  of  14,590.    Elapsed: 1:27:12.\n",
      "  Batch 8,350  of  14,590.    Elapsed: 1:27:43.\n",
      "  Batch 8,400  of  14,590.    Elapsed: 1:28:14.\n",
      "  Batch 8,450  of  14,590.    Elapsed: 1:28:46.\n",
      "  Batch 8,500  of  14,590.    Elapsed: 1:29:17.\n",
      "  Batch 8,550  of  14,590.    Elapsed: 1:29:48.\n",
      "  Batch 8,600  of  14,590.    Elapsed: 1:30:19.\n",
      "  Batch 8,650  of  14,590.    Elapsed: 1:30:51.\n",
      "  Batch 8,700  of  14,590.    Elapsed: 1:31:22.\n",
      "  Batch 8,750  of  14,590.    Elapsed: 1:31:54.\n",
      "  Batch 8,800  of  14,590.    Elapsed: 1:32:26.\n",
      "  Batch 8,850  of  14,590.    Elapsed: 1:32:57.\n",
      "  Batch 8,900  of  14,590.    Elapsed: 1:33:29.\n",
      "  Batch 8,950  of  14,590.    Elapsed: 1:34:00.\n",
      "  Batch 9,000  of  14,590.    Elapsed: 1:34:31.\n",
      "  Batch 9,050  of  14,590.    Elapsed: 1:35:02.\n",
      "  Batch 9,100  of  14,590.    Elapsed: 1:35:34.\n",
      "  Batch 9,150  of  14,590.    Elapsed: 1:36:05.\n",
      "  Batch 9,200  of  14,590.    Elapsed: 1:36:37.\n",
      "  Batch 9,250  of  14,590.    Elapsed: 1:37:09.\n",
      "  Batch 9,300  of  14,590.    Elapsed: 1:37:42.\n",
      "  Batch 9,350  of  14,590.    Elapsed: 1:38:15.\n",
      "  Batch 9,400  of  14,590.    Elapsed: 1:38:48.\n",
      "  Batch 9,450  of  14,590.    Elapsed: 1:39:21.\n",
      "  Batch 9,500  of  14,590.    Elapsed: 1:39:55.\n",
      "  Batch 9,550  of  14,590.    Elapsed: 1:40:28.\n",
      "  Batch 9,600  of  14,590.    Elapsed: 1:41:01.\n",
      "  Batch 9,650  of  14,590.    Elapsed: 1:41:35.\n",
      "  Batch 9,700  of  14,590.    Elapsed: 1:42:09.\n",
      "  Batch 9,750  of  14,590.    Elapsed: 1:42:40.\n",
      "  Batch 9,800  of  14,590.    Elapsed: 1:43:12.\n",
      "  Batch 9,850  of  14,590.    Elapsed: 1:43:43.\n",
      "  Batch 9,900  of  14,590.    Elapsed: 1:44:14.\n",
      "  Batch 9,950  of  14,590.    Elapsed: 1:44:45.\n",
      "  Batch 10,000  of  14,590.    Elapsed: 1:45:16.\n",
      "  Batch 10,050  of  14,590.    Elapsed: 1:45:48.\n",
      "  Batch 10,100  of  14,590.    Elapsed: 1:46:20.\n",
      "  Batch 10,150  of  14,590.    Elapsed: 1:46:52.\n",
      "  Batch 10,200  of  14,590.    Elapsed: 1:47:23.\n",
      "  Batch 10,250  of  14,590.    Elapsed: 1:47:54.\n",
      "  Batch 10,300  of  14,590.    Elapsed: 1:48:26.\n",
      "  Batch 10,350  of  14,590.    Elapsed: 1:48:57.\n",
      "  Batch 10,400  of  14,590.    Elapsed: 1:49:28.\n",
      "  Batch 10,450  of  14,590.    Elapsed: 1:50:00.\n",
      "  Batch 10,500  of  14,590.    Elapsed: 1:50:31.\n",
      "  Batch 10,550  of  14,590.    Elapsed: 1:51:02.\n",
      "  Batch 10,600  of  14,590.    Elapsed: 1:51:34.\n",
      "  Batch 10,650  of  14,590.    Elapsed: 1:52:06.\n",
      "  Batch 10,700  of  14,590.    Elapsed: 1:52:39.\n",
      "  Batch 10,750  of  14,590.    Elapsed: 1:53:11.\n",
      "  Batch 10,800  of  14,590.    Elapsed: 1:53:45.\n",
      "  Batch 10,850  of  14,590.    Elapsed: 1:54:18.\n",
      "  Batch 10,900  of  14,590.    Elapsed: 1:54:51.\n",
      "  Batch 10,950  of  14,590.    Elapsed: 1:55:25.\n",
      "  Batch 11,000  of  14,590.    Elapsed: 1:55:59.\n",
      "  Batch 11,050  of  14,590.    Elapsed: 1:56:33.\n",
      "  Batch 11,100  of  14,590.    Elapsed: 1:57:07.\n",
      "  Batch 11,150  of  14,590.    Elapsed: 1:57:41.\n",
      "  Batch 11,200  of  14,590.    Elapsed: 1:58:15.\n",
      "  Batch 11,250  of  14,590.    Elapsed: 1:58:49.\n",
      "  Batch 11,300  of  14,590.    Elapsed: 1:59:23.\n",
      "  Batch 11,350  of  14,590.    Elapsed: 1:59:55.\n",
      "  Batch 11,400  of  14,590.    Elapsed: 2:00:27.\n",
      "  Batch 11,450  of  14,590.    Elapsed: 2:00:58.\n",
      "  Batch 11,500  of  14,590.    Elapsed: 2:01:29.\n",
      "  Batch 11,550  of  14,590.    Elapsed: 2:02:00.\n",
      "  Batch 11,600  of  14,590.    Elapsed: 2:02:31.\n",
      "  Batch 11,650  of  14,590.    Elapsed: 2:03:02.\n",
      "  Batch 11,700  of  14,590.    Elapsed: 2:03:33.\n",
      "  Batch 11,750  of  14,590.    Elapsed: 2:04:05.\n",
      "  Batch 11,800  of  14,590.    Elapsed: 2:04:36.\n",
      "  Batch 11,850  of  14,590.    Elapsed: 2:05:07.\n",
      "  Batch 11,900  of  14,590.    Elapsed: 2:05:39.\n",
      "  Batch 11,950  of  14,590.    Elapsed: 2:06:10.\n",
      "  Batch 12,000  of  14,590.    Elapsed: 2:06:42.\n",
      "  Batch 12,050  of  14,590.    Elapsed: 2:07:14.\n",
      "  Batch 12,100  of  14,590.    Elapsed: 2:07:45.\n",
      "  Batch 12,150  of  14,590.    Elapsed: 2:08:16.\n",
      "  Batch 12,200  of  14,590.    Elapsed: 2:08:47.\n",
      "  Batch 12,250  of  14,590.    Elapsed: 2:09:19.\n",
      "  Batch 12,300  of  14,590.    Elapsed: 2:09:50.\n",
      "  Batch 12,350  of  14,590.    Elapsed: 2:10:21.\n",
      "  Batch 12,400  of  14,590.    Elapsed: 2:10:52.\n",
      "  Batch 12,450  of  14,590.    Elapsed: 2:11:24.\n",
      "  Batch 12,500  of  14,590.    Elapsed: 2:11:55.\n",
      "  Batch 12,550  of  14,590.    Elapsed: 2:12:27.\n",
      "  Batch 12,600  of  14,590.    Elapsed: 2:12:58.\n",
      "  Batch 12,650  of  14,590.    Elapsed: 2:13:29.\n",
      "  Batch 12,700  of  14,590.    Elapsed: 2:14:00.\n",
      "  Batch 12,750  of  14,590.    Elapsed: 2:14:32.\n",
      "  Batch 12,800  of  14,590.    Elapsed: 2:15:03.\n",
      "  Batch 12,850  of  14,590.    Elapsed: 2:15:34.\n",
      "  Batch 12,900  of  14,590.    Elapsed: 2:16:06.\n",
      "  Batch 12,950  of  14,590.    Elapsed: 2:16:38.\n",
      "  Batch 13,000  of  14,590.    Elapsed: 2:17:10.\n",
      "  Batch 13,050  of  14,590.    Elapsed: 2:17:42.\n",
      "  Batch 13,100  of  14,590.    Elapsed: 2:18:15.\n",
      "  Batch 13,150  of  14,590.    Elapsed: 2:18:48.\n",
      "  Batch 13,200  of  14,590.    Elapsed: 2:19:21.\n",
      "  Batch 13,250  of  14,590.    Elapsed: 2:19:55.\n",
      "  Batch 13,300  of  14,590.    Elapsed: 2:20:28.\n",
      "  Batch 13,350  of  14,590.    Elapsed: 2:21:00.\n",
      "  Batch 13,400  of  14,590.    Elapsed: 2:21:32.\n",
      "  Batch 13,450  of  14,590.    Elapsed: 2:22:03.\n",
      "  Batch 13,500  of  14,590.    Elapsed: 2:22:34.\n",
      "  Batch 13,550  of  14,590.    Elapsed: 2:23:05.\n",
      "  Batch 13,600  of  14,590.    Elapsed: 2:23:36.\n",
      "  Batch 13,650  of  14,590.    Elapsed: 2:24:08.\n",
      "  Batch 13,700  of  14,590.    Elapsed: 2:24:39.\n",
      "  Batch 13,750  of  14,590.    Elapsed: 2:25:10.\n",
      "  Batch 13,800  of  14,590.    Elapsed: 2:25:41.\n",
      "  Batch 13,850  of  14,590.    Elapsed: 2:26:13.\n",
      "  Batch 13,900  of  14,590.    Elapsed: 2:26:45.\n",
      "  Batch 13,950  of  14,590.    Elapsed: 2:27:17.\n",
      "  Batch 14,000  of  14,590.    Elapsed: 2:27:48.\n",
      "  Batch 14,050  of  14,590.    Elapsed: 2:28:20.\n",
      "  Batch 14,100  of  14,590.    Elapsed: 2:28:51.\n",
      "  Batch 14,150  of  14,590.    Elapsed: 2:29:22.\n",
      "  Batch 14,200  of  14,590.    Elapsed: 2:29:54.\n",
      "  Batch 14,250  of  14,590.    Elapsed: 2:30:25.\n",
      "  Batch 14,300  of  14,590.    Elapsed: 2:30:57.\n",
      "  Batch 14,350  of  14,590.    Elapsed: 2:31:29.\n",
      "  Batch 14,400  of  14,590.    Elapsed: 2:32:01.\n",
      "  Batch 14,450  of  14,590.    Elapsed: 2:32:34.\n",
      "  Batch 14,500  of  14,590.    Elapsed: 2:33:06.\n",
      "  Batch 14,550  of  14,590.    Elapsed: 2:33:39.\n",
      "\n",
      "  Average training loss: 1250.19\n",
      "  Training epoch took: 2:34:05\n",
      "\n",
      "Running Validation...\n",
      "  Top 1 Accuracy: 0.00\n",
      "  Top 10 Accuracy: 0.00\n",
      "  Top 100 Accuracy: 0.00\n",
      "  Validation Loss: 1244.90\n",
      "  Validation took: 0:21:02\n",
      "\n",
      "======== Epoch 2 / 2 ========\n",
      "Training...\n",
      "  Batch    50  of  14,590.    Elapsed: 0:00:28.\n",
      "  Batch   100  of  14,590.    Elapsed: 0:00:59.\n",
      "  Batch   150  of  14,590.    Elapsed: 0:01:30.\n",
      "  Batch   200  of  14,590.    Elapsed: 0:02:01.\n",
      "  Batch   250  of  14,590.    Elapsed: 0:02:33.\n",
      "  Batch   300  of  14,590.    Elapsed: 0:03:04.\n",
      "  Batch   350  of  14,590.    Elapsed: 0:03:35.\n",
      "  Batch   400  of  14,590.    Elapsed: 0:04:07.\n",
      "  Batch   450  of  14,590.    Elapsed: 0:04:38.\n",
      "  Batch   500  of  14,590.    Elapsed: 0:05:09.\n",
      "  Batch   550  of  14,590.    Elapsed: 0:05:40.\n",
      "  Batch   600  of  14,590.    Elapsed: 0:06:12.\n",
      "  Batch   650  of  14,590.    Elapsed: 0:06:43.\n",
      "  Batch   700  of  14,590.    Elapsed: 0:07:14.\n",
      "  Batch   750  of  14,590.    Elapsed: 0:07:45.\n",
      "  Batch   800  of  14,590.    Elapsed: 0:08:17.\n",
      "  Batch   850  of  14,590.    Elapsed: 0:08:48.\n",
      "  Batch   900  of  14,590.    Elapsed: 0:09:20.\n",
      "  Batch   950  of  14,590.    Elapsed: 0:09:51.\n",
      "  Batch 1,000  of  14,590.    Elapsed: 0:10:23.\n",
      "  Batch 1,050  of  14,590.    Elapsed: 0:10:54.\n",
      "  Batch 1,100  of  14,590.    Elapsed: 0:11:26.\n",
      "  Batch 1,150  of  14,590.    Elapsed: 0:11:57.\n",
      "  Batch 1,200  of  14,590.    Elapsed: 0:12:28.\n",
      "  Batch 1,250  of  14,590.    Elapsed: 0:13:00.\n",
      "  Batch 1,300  of  14,590.    Elapsed: 0:13:31.\n",
      "  Batch 1,350  of  14,590.    Elapsed: 0:14:02.\n",
      "  Batch 1,400  of  14,590.    Elapsed: 0:14:33.\n",
      "  Batch 1,450  of  14,590.    Elapsed: 0:15:05.\n",
      "  Batch 1,500  of  14,590.    Elapsed: 0:15:36.\n",
      "  Batch 1,550  of  14,590.    Elapsed: 0:16:08.\n",
      "  Batch 1,600  of  14,590.    Elapsed: 0:16:40.\n",
      "  Batch 1,650  of  14,590.    Elapsed: 0:17:13.\n",
      "  Batch 1,700  of  14,590.    Elapsed: 0:17:45.\n",
      "  Batch 1,750  of  14,590.    Elapsed: 0:18:19.\n",
      "  Batch 1,800  of  14,590.    Elapsed: 0:18:52.\n",
      "  Batch 1,850  of  14,590.    Elapsed: 0:19:26.\n",
      "  Batch 1,900  of  14,590.    Elapsed: 0:20:00.\n",
      "  Batch 1,950  of  14,590.    Elapsed: 0:20:33.\n",
      "  Batch 2,000  of  14,590.    Elapsed: 0:21:07.\n",
      "  Batch 2,050  of  14,590.    Elapsed: 0:21:41.\n",
      "  Batch 2,100  of  14,590.    Elapsed: 0:22:14.\n",
      "  Batch 2,150  of  14,590.    Elapsed: 0:22:45.\n",
      "  Batch 2,200  of  14,590.    Elapsed: 0:23:16.\n",
      "  Batch 2,250  of  14,590.    Elapsed: 0:23:48.\n",
      "  Batch 2,300  of  14,590.    Elapsed: 0:24:19.\n",
      "  Batch 2,350  of  14,590.    Elapsed: 0:24:51.\n",
      "  Batch 2,400  of  14,590.    Elapsed: 0:25:22.\n",
      "  Batch 2,450  of  14,590.    Elapsed: 0:25:54.\n",
      "  Batch 2,500  of  14,590.    Elapsed: 0:26:25.\n",
      "  Batch 2,550  of  14,590.    Elapsed: 0:26:58.\n",
      "  Batch 2,600  of  14,590.    Elapsed: 0:27:29.\n",
      "  Batch 2,650  of  14,590.    Elapsed: 0:28:00.\n",
      "  Batch 2,700  of  14,590.    Elapsed: 0:28:32.\n",
      "  Batch 2,750  of  14,590.    Elapsed: 0:29:03.\n",
      "  Batch 2,800  of  14,590.    Elapsed: 0:29:35.\n",
      "  Batch 2,850  of  14,590.    Elapsed: 0:30:06.\n",
      "  Batch 2,900  of  14,590.    Elapsed: 0:30:37.\n",
      "  Batch 2,950  of  14,590.    Elapsed: 0:31:09.\n",
      "  Batch 3,000  of  14,590.    Elapsed: 0:31:41.\n",
      "  Batch 3,050  of  14,590.    Elapsed: 0:32:13.\n",
      "  Batch 3,100  of  14,590.    Elapsed: 0:32:44.\n",
      "  Batch 3,150  of  14,590.    Elapsed: 0:33:16.\n",
      "  Batch 3,200  of  14,590.    Elapsed: 0:33:47.\n",
      "  Batch 3,250  of  14,590.    Elapsed: 0:34:19.\n",
      "  Batch 3,300  of  14,590.    Elapsed: 0:34:51.\n",
      "  Batch 3,350  of  14,590.    Elapsed: 0:35:22.\n",
      "  Batch 3,400  of  14,590.    Elapsed: 0:35:54.\n",
      "  Batch 3,450  of  14,590.    Elapsed: 0:36:26.\n",
      "  Batch 3,500  of  14,590.    Elapsed: 0:36:58.\n",
      "  Batch 3,550  of  14,590.    Elapsed: 0:37:29.\n",
      "  Batch 3,600  of  14,590.    Elapsed: 0:38:01.\n",
      "  Batch 3,650  of  14,590.    Elapsed: 0:38:32.\n",
      "  Batch 3,700  of  14,590.    Elapsed: 0:39:03.\n",
      "  Batch 3,750  of  14,590.    Elapsed: 0:39:35.\n",
      "  Batch 3,800  of  14,590.    Elapsed: 0:40:06.\n",
      "  Batch 3,850  of  14,590.    Elapsed: 0:40:38.\n",
      "  Batch 3,900  of  14,590.    Elapsed: 0:41:09.\n",
      "  Batch 3,950  of  14,590.    Elapsed: 0:41:41.\n",
      "  Batch 4,000  of  14,590.    Elapsed: 0:42:13.\n",
      "  Batch 4,050  of  14,590.    Elapsed: 0:42:44.\n",
      "  Batch 4,100  of  14,590.    Elapsed: 0:43:16.\n",
      "  Batch 4,150  of  14,590.    Elapsed: 0:43:47.\n",
      "  Batch 4,200  of  14,590.    Elapsed: 0:44:18.\n",
      "  Batch 4,250  of  14,590.    Elapsed: 0:44:50.\n",
      "  Batch 4,300  of  14,590.    Elapsed: 0:45:21.\n",
      "  Batch 4,350  of  14,590.    Elapsed: 0:45:53.\n",
      "  Batch 4,400  of  14,590.    Elapsed: 0:46:24.\n",
      "  Batch 4,450  of  14,590.    Elapsed: 0:46:57.\n",
      "  Batch 4,500  of  14,590.    Elapsed: 0:47:29.\n",
      "  Batch 4,550  of  14,590.    Elapsed: 0:48:02.\n",
      "  Batch 4,600  of  14,590.    Elapsed: 0:48:35.\n",
      "  Batch 4,650  of  14,590.    Elapsed: 0:49:07.\n",
      "  Batch 4,700  of  14,590.    Elapsed: 0:49:38.\n",
      "  Batch 4,750  of  14,590.    Elapsed: 0:50:10.\n",
      "  Batch 4,800  of  14,590.    Elapsed: 0:50:41.\n",
      "  Batch 4,850  of  14,590.    Elapsed: 0:51:12.\n",
      "  Batch 4,900  of  14,590.    Elapsed: 0:51:44.\n",
      "  Batch 4,950  of  14,590.    Elapsed: 0:52:15.\n",
      "  Batch 5,000  of  14,590.    Elapsed: 0:52:46.\n",
      "  Batch 5,050  of  14,590.    Elapsed: 0:53:18.\n",
      "  Batch 5,100  of  14,590.    Elapsed: 0:53:49.\n",
      "  Batch 5,150  of  14,590.    Elapsed: 0:54:21.\n",
      "  Batch 5,200  of  14,590.    Elapsed: 0:54:53.\n",
      "  Batch 5,250  of  14,590.    Elapsed: 0:55:25.\n",
      "  Batch 5,300  of  14,590.    Elapsed: 0:55:56.\n",
      "  Batch 5,350  of  14,590.    Elapsed: 0:56:27.\n",
      "  Batch 5,400  of  14,590.    Elapsed: 0:56:59.\n",
      "  Batch 5,450  of  14,590.    Elapsed: 0:57:30.\n",
      "  Batch 5,500  of  14,590.    Elapsed: 0:58:01.\n",
      "  Batch 5,550  of  14,590.    Elapsed: 0:58:32.\n",
      "  Batch 5,600  of  14,590.    Elapsed: 0:59:04.\n",
      "  Batch 5,650  of  14,590.    Elapsed: 0:59:35.\n",
      "  Batch 5,700  of  14,590.    Elapsed: 1:00:06.\n",
      "  Batch 5,750  of  14,590.    Elapsed: 1:00:37.\n",
      "  Batch 5,800  of  14,590.    Elapsed: 1:01:09.\n",
      "  Batch 5,850  of  14,590.    Elapsed: 1:01:40.\n",
      "  Batch 5,900  of  14,590.    Elapsed: 1:02:11.\n",
      "  Batch 5,950  of  14,590.    Elapsed: 1:02:42.\n",
      "  Batch 6,000  of  14,590.    Elapsed: 1:03:13.\n",
      "  Batch 6,050  of  14,590.    Elapsed: 1:03:45.\n",
      "  Batch 6,100  of  14,590.    Elapsed: 1:04:16.\n",
      "  Batch 6,150  of  14,590.    Elapsed: 1:04:47.\n",
      "  Batch 6,200  of  14,590.    Elapsed: 1:05:19.\n",
      "  Batch 6,250  of  14,590.    Elapsed: 1:05:50.\n",
      "  Batch 6,300  of  14,590.    Elapsed: 1:06:21.\n",
      "  Batch 6,350  of  14,590.    Elapsed: 1:06:52.\n",
      "  Batch 6,400  of  14,590.    Elapsed: 1:07:24.\n",
      "  Batch 6,450  of  14,590.    Elapsed: 1:07:55.\n",
      "  Batch 6,500  of  14,590.    Elapsed: 1:08:27.\n",
      "  Batch 6,550  of  14,590.    Elapsed: 1:08:59.\n",
      "  Batch 6,600  of  14,590.    Elapsed: 1:09:31.\n",
      "  Batch 6,650  of  14,590.    Elapsed: 1:10:04.\n",
      "  Batch 6,700  of  14,590.    Elapsed: 1:10:36.\n",
      "  Batch 6,750  of  14,590.    Elapsed: 1:11:10.\n",
      "  Batch 6,800  of  14,590.    Elapsed: 1:11:43.\n",
      "  Batch 6,850  of  14,590.    Elapsed: 1:12:17.\n",
      "  Batch 6,900  of  14,590.    Elapsed: 1:12:50.\n",
      "  Batch 6,950  of  14,590.    Elapsed: 1:13:24.\n",
      "  Batch 7,000  of  14,590.    Elapsed: 1:13:58.\n",
      "  Batch 7,050  of  14,590.    Elapsed: 1:14:31.\n",
      "  Batch 7,100  of  14,590.    Elapsed: 1:15:05.\n",
      "  Batch 7,150  of  14,590.    Elapsed: 1:15:39.\n",
      "  Batch 7,200  of  14,590.    Elapsed: 1:16:13.\n",
      "  Batch 7,250  of  14,590.    Elapsed: 1:16:47.\n",
      "  Batch 7,300  of  14,590.    Elapsed: 1:17:20.\n",
      "  Batch 7,350  of  14,590.    Elapsed: 1:17:51.\n",
      "  Batch 7,400  of  14,590.    Elapsed: 1:18:23.\n",
      "  Batch 7,450  of  14,590.    Elapsed: 1:18:54.\n",
      "  Batch 7,500  of  14,590.    Elapsed: 1:19:25.\n",
      "  Batch 7,550  of  14,590.    Elapsed: 1:19:57.\n",
      "  Batch 7,600  of  14,590.    Elapsed: 1:20:29.\n",
      "  Batch 7,650  of  14,590.    Elapsed: 1:21:00.\n",
      "  Batch 7,700  of  14,590.    Elapsed: 1:21:32.\n",
      "  Batch 7,750  of  14,590.    Elapsed: 1:22:04.\n",
      "  Batch 7,800  of  14,590.    Elapsed: 1:22:36.\n",
      "  Batch 7,850  of  14,590.    Elapsed: 1:23:07.\n",
      "  Batch 7,900  of  14,590.    Elapsed: 1:23:38.\n",
      "  Batch 7,950  of  14,590.    Elapsed: 1:24:09.\n",
      "  Batch 8,000  of  14,590.    Elapsed: 1:24:41.\n",
      "  Batch 8,050  of  14,590.    Elapsed: 1:25:12.\n",
      "  Batch 8,100  of  14,590.    Elapsed: 1:25:43.\n",
      "  Batch 8,150  of  14,590.    Elapsed: 1:26:15.\n",
      "  Batch 8,200  of  14,590.    Elapsed: 1:26:47.\n",
      "  Batch 8,250  of  14,590.    Elapsed: 1:27:20.\n",
      "  Batch 8,300  of  14,590.    Elapsed: 1:27:51.\n",
      "  Batch 8,350  of  14,590.    Elapsed: 1:28:22.\n",
      "  Batch 8,400  of  14,590.    Elapsed: 1:28:54.\n",
      "  Batch 8,450  of  14,590.    Elapsed: 1:29:25.\n",
      "  Batch 8,500  of  14,590.    Elapsed: 1:29:57.\n",
      "  Batch 8,550  of  14,590.    Elapsed: 1:30:28.\n",
      "  Batch 8,600  of  14,590.    Elapsed: 1:30:59.\n",
      "  Batch 8,650  of  14,590.    Elapsed: 1:31:31.\n",
      "  Batch 8,700  of  14,590.    Elapsed: 1:32:03.\n",
      "  Batch 8,750  of  14,590.    Elapsed: 1:32:35.\n",
      "  Batch 8,800  of  14,590.    Elapsed: 1:33:08.\n",
      "  Batch 8,850  of  14,590.    Elapsed: 1:33:41.\n",
      "  Batch 8,900  of  14,590.    Elapsed: 1:34:15.\n",
      "  Batch 8,950  of  14,590.    Elapsed: 1:34:46.\n",
      "  Batch 9,000  of  14,590.    Elapsed: 1:35:18.\n",
      "  Batch 9,050  of  14,590.    Elapsed: 1:35:49.\n",
      "  Batch 9,100  of  14,590.    Elapsed: 1:36:20.\n",
      "  Batch 9,150  of  14,590.    Elapsed: 1:36:51.\n",
      "  Batch 9,200  of  14,590.    Elapsed: 1:37:23.\n",
      "  Batch 9,250  of  14,590.    Elapsed: 1:37:54.\n",
      "  Batch 9,300  of  14,590.    Elapsed: 1:38:25.\n",
      "  Batch 9,350  of  14,590.    Elapsed: 1:38:56.\n",
      "  Batch 9,400  of  14,590.    Elapsed: 1:39:28.\n",
      "  Batch 9,450  of  14,590.    Elapsed: 1:39:59.\n",
      "  Batch 9,500  of  14,590.    Elapsed: 1:40:30.\n",
      "  Batch 9,550  of  14,590.    Elapsed: 1:41:02.\n",
      "  Batch 9,600  of  14,590.    Elapsed: 1:41:34.\n",
      "  Batch 9,650  of  14,590.    Elapsed: 1:42:06.\n",
      "  Batch 9,700  of  14,590.    Elapsed: 1:42:39.\n",
      "  Batch 9,750  of  14,590.    Elapsed: 1:43:12.\n",
      "  Batch 9,800  of  14,590.    Elapsed: 1:43:46.\n",
      "  Batch 9,850  of  14,590.    Elapsed: 1:44:19.\n",
      "  Batch 9,900  of  14,590.    Elapsed: 1:44:52.\n",
      "  Batch 9,950  of  14,590.    Elapsed: 1:45:26.\n",
      "  Batch 10,000  of  14,590.    Elapsed: 1:46:00.\n",
      "  Batch 10,050  of  14,590.    Elapsed: 1:46:33.\n",
      "  Batch 10,100  of  14,590.    Elapsed: 1:47:06.\n",
      "  Batch 10,150  of  14,590.    Elapsed: 1:47:38.\n",
      "  Batch 10,200  of  14,590.    Elapsed: 1:48:09.\n",
      "  Batch 10,250  of  14,590.    Elapsed: 1:48:41.\n",
      "  Batch 10,300  of  14,590.    Elapsed: 1:49:12.\n",
      "  Batch 10,350  of  14,590.    Elapsed: 1:49:43.\n",
      "  Batch 10,400  of  14,590.    Elapsed: 1:50:14.\n",
      "  Batch 10,450  of  14,590.    Elapsed: 1:50:45.\n",
      "  Batch 10,500  of  14,590.    Elapsed: 1:51:17.\n",
      "  Batch 10,550  of  14,590.    Elapsed: 1:51:48.\n",
      "  Batch 10,600  of  14,590.    Elapsed: 1:52:19.\n",
      "  Batch 10,650  of  14,590.    Elapsed: 1:52:50.\n",
      "  Batch 10,700  of  14,590.    Elapsed: 1:53:21.\n",
      "  Batch 10,750  of  14,590.    Elapsed: 1:53:53.\n",
      "  Batch 10,800  of  14,590.    Elapsed: 1:54:24.\n",
      "  Batch 10,850  of  14,590.    Elapsed: 1:54:55.\n",
      "  Batch 10,900  of  14,590.    Elapsed: 1:55:26.\n",
      "  Batch 10,950  of  14,590.    Elapsed: 1:55:58.\n",
      "  Batch 11,000  of  14,590.    Elapsed: 1:56:29.\n",
      "  Batch 11,050  of  14,590.    Elapsed: 1:57:01.\n",
      "  Batch 11,100  of  14,590.    Elapsed: 1:57:33.\n",
      "  Batch 11,150  of  14,590.    Elapsed: 1:58:05.\n",
      "  Batch 11,200  of  14,590.    Elapsed: 1:58:38.\n",
      "  Batch 11,250  of  14,590.    Elapsed: 1:59:11.\n",
      "  Batch 11,300  of  14,590.    Elapsed: 1:59:44.\n",
      "  Batch 11,350  of  14,590.    Elapsed: 2:00:18.\n",
      "  Batch 11,400  of  14,590.    Elapsed: 2:00:51.\n",
      "  Batch 11,450  of  14,590.    Elapsed: 2:01:25.\n",
      "  Batch 11,500  of  14,590.    Elapsed: 2:01:58.\n",
      "  Batch 11,550  of  14,590.    Elapsed: 2:02:29.\n",
      "  Batch 11,600  of  14,590.    Elapsed: 2:03:01.\n",
      "  Batch 11,650  of  14,590.    Elapsed: 2:03:32.\n",
      "  Batch 11,700  of  14,590.    Elapsed: 2:04:03.\n",
      "  Batch 11,750  of  14,590.    Elapsed: 2:04:34.\n",
      "  Batch 11,800  of  14,590.    Elapsed: 2:05:05.\n",
      "  Batch 11,850  of  14,590.    Elapsed: 2:05:37.\n",
      "  Batch 11,900  of  14,590.    Elapsed: 2:06:08.\n",
      "  Batch 11,950  of  14,590.    Elapsed: 2:06:39.\n",
      "  Batch 12,000  of  14,590.    Elapsed: 2:07:10.\n",
      "  Batch 12,050  of  14,590.    Elapsed: 2:07:41.\n",
      "  Batch 12,100  of  14,590.    Elapsed: 2:08:13.\n",
      "  Batch 12,150  of  14,590.    Elapsed: 2:08:44.\n",
      "  Batch 12,200  of  14,590.    Elapsed: 2:09:15.\n",
      "  Batch 12,250  of  14,590.    Elapsed: 2:09:46.\n",
      "  Batch 12,300  of  14,590.    Elapsed: 2:10:18.\n",
      "  Batch 12,350  of  14,590.    Elapsed: 2:10:49.\n",
      "  Batch 12,400  of  14,590.    Elapsed: 2:11:21.\n",
      "  Batch 12,450  of  14,590.    Elapsed: 2:11:53.\n",
      "  Batch 12,500  of  14,590.    Elapsed: 2:12:24.\n",
      "  Batch 12,550  of  14,590.    Elapsed: 2:12:56.\n",
      "  Batch 12,600  of  14,590.    Elapsed: 2:13:27.\n",
      "  Batch 12,650  of  14,590.    Elapsed: 2:13:58.\n",
      "  Batch 12,700  of  14,590.    Elapsed: 2:14:29.\n",
      "  Batch 12,750  of  14,590.    Elapsed: 2:15:01.\n",
      "  Batch 12,800  of  14,590.    Elapsed: 2:15:32.\n",
      "  Batch 12,850  of  14,590.    Elapsed: 2:16:04.\n",
      "  Batch 12,900  of  14,590.    Elapsed: 2:16:36.\n",
      "  Batch 12,950  of  14,590.    Elapsed: 2:17:08.\n",
      "  Batch 13,000  of  14,590.    Elapsed: 2:17:41.\n",
      "  Batch 13,050  of  14,590.    Elapsed: 2:18:13.\n",
      "  Batch 13,100  of  14,590.    Elapsed: 2:18:47.\n",
      "  Batch 13,150  of  14,590.    Elapsed: 2:19:20.\n",
      "  Batch 13,200  of  14,590.    Elapsed: 2:19:54.\n",
      "  Batch 13,250  of  14,590.    Elapsed: 2:20:27.\n",
      "  Batch 13,300  of  14,590.    Elapsed: 2:21:01.\n",
      "  Batch 13,350  of  14,590.    Elapsed: 2:21:35.\n",
      "  Batch 13,400  of  14,590.    Elapsed: 2:22:09.\n",
      "  Batch 13,450  of  14,590.    Elapsed: 2:22:43.\n",
      "  Batch 13,500  of  14,590.    Elapsed: 2:23:17.\n",
      "  Batch 13,550  of  14,590.    Elapsed: 2:23:51.\n",
      "  Batch 13,600  of  14,590.    Elapsed: 2:24:25.\n",
      "  Batch 13,650  of  14,590.    Elapsed: 2:24:59.\n",
      "  Batch 13,700  of  14,590.    Elapsed: 2:25:35.\n",
      "  Batch 13,750  of  14,590.    Elapsed: 2:26:09.\n",
      "  Batch 13,800  of  14,590.    Elapsed: 2:26:42.\n",
      "  Batch 13,850  of  14,590.    Elapsed: 2:27:16.\n",
      "  Batch 13,900  of  14,590.    Elapsed: 2:27:50.\n",
      "  Batch 13,950  of  14,590.    Elapsed: 2:28:23.\n",
      "  Batch 14,000  of  14,590.    Elapsed: 2:28:57.\n",
      "  Batch 14,050  of  14,590.    Elapsed: 2:29:31.\n",
      "  Batch 14,100  of  14,590.    Elapsed: 2:30:05.\n",
      "  Batch 14,150  of  14,590.    Elapsed: 2:30:39.\n",
      "  Batch 14,200  of  14,590.    Elapsed: 2:31:13.\n",
      "  Batch 14,250  of  14,590.    Elapsed: 2:31:48.\n",
      "  Batch 14,300  of  14,590.    Elapsed: 2:32:20.\n",
      "  Batch 14,350  of  14,590.    Elapsed: 2:32:52.\n",
      "  Batch 14,400  of  14,590.    Elapsed: 2:33:23.\n",
      "  Batch 14,450  of  14,590.    Elapsed: 2:33:54.\n",
      "  Batch 14,500  of  14,590.    Elapsed: 2:34:26.\n",
      "  Batch 14,550  of  14,590.    Elapsed: 2:34:57.\n",
      "\n",
      "  Average training loss: 1247.82\n",
      "  Training epoch took: 2:35:23\n",
      "\n",
      "Running Validation...\n",
      "  Top 1 Accuracy: 0.00\n",
      "  Top 10 Accuracy: 0.00\n",
      "  Top 100 Accuracy: 0.00\n",
      "  Validation Loss: 1243.26\n",
      "  Validation took: 0:21:11\n",
      "\n",
      "Training complete!\n",
      "Total training took 5:51:41 (h:mm:ss)\n"
     ]
    }
   ],
   "source": [
    "import random\n",
    "import numpy as np\n",
    "\n",
    "# This training code is based on the `run_glue.py` script here:\n",
    "# https://github.com/huggingface/transformers/blob/5bfcd0485ece086ebcbed2d008813037968a9e58/examples/run_glue.py#L128\n",
    "\n",
    "# Set the seed value all over the place to make this reproducible.\n",
    "seed_val = 224\n",
    "\n",
    "random.seed(seed_val)\n",
    "np.random.seed(seed_val)\n",
    "torch.manual_seed(seed_val)\n",
    "torch.cuda.manual_seed_all(seed_val)\n",
    "\n",
    "# We'll store a number of quantities such as training and validation loss, \n",
    "# validation accuracy, and timings.\n",
    "training_stats = []\n",
    "\n",
    "# Measure the total training time for the whole run.\n",
    "total_t0 = time.time()\n",
    "\n",
    "# For each epoch...\n",
    "for epoch_i in range(0, epochs):\n",
    "    \n",
    "    # ========================================\n",
    "    #               Training\n",
    "    # ========================================\n",
    "    \n",
    "    # Perform one full pass over the training set.\n",
    "\n",
    "    print(\"\")\n",
    "    print('======== Epoch {:} / {:} ========'.format(epoch_i + 1, epochs))\n",
    "    print('Training...')\n",
    "\n",
    "    # Measure how long the training epoch takes.\n",
    "    t0 = time.time()\n",
    "\n",
    "    # Reset the total loss for this epoch.\n",
    "    total_train_loss = 0\n",
    "\n",
    "    # Put the model into training mode.\n",
    "    model.train()\n",
    "\n",
    "    # For each batch of training data...\n",
    "    for step, batch in enumerate(train_dataloader):\n",
    "\n",
    "        # Progress update every 50 batches.\n",
    "        if step % 50 == 0 and not step == 0:\n",
    "            # Calculate elapsed time in minutes.\n",
    "            elapsed = format_time(time.time() - t0)\n",
    "            \n",
    "            # Save model\n",
    "            torch.save(model.state_dict(), \"model.params.e\")\n",
    "\n",
    "            # Report progress.\n",
    "            print('  Batch {:>5,}  of  {:>5,}.    Elapsed: {:}.'.format(step, len(train_dataloader), elapsed))\n",
    "\n",
    "        # Unpack this training batch from our dataloader. \n",
    "        #\n",
    "        # As we unpack the batch, we'll also copy each tensor to the GPU using the \n",
    "        # `to` method.\n",
    "        #\n",
    "        # `batch` contains three pytorch tensors:\n",
    "        #   [0]: input ids \n",
    "        #   [1]: attention masks\n",
    "        #   [2]: labels \n",
    "        b_input_ids = batch[0].to(device)\n",
    "        b_input_mask = batch[1].to(device)\n",
    "        b_labels = batch[2].to(device)\n",
    "\n",
    "        # Always clear any previously calculated gradients before performing a\n",
    "        # backward pass. PyTorch doesn't do this automatically because \n",
    "        # accumulating the gradients is \"convenient while training RNNs\". \n",
    "        model.zero_grad()        \n",
    "\n",
    "        # Perform a forward pass (evaluate the model on this training batch).\n",
    "        outputs = bert_layer(b_input_ids)\n",
    "        outputs = outputs[0].view(outputs[0].shape[0], 153600) # 153600 = 768 * 200\n",
    "        outputs = model(outputs)\n",
    "\n",
    "        # Accumulate the training loss over all of the batches so that we can\n",
    "        # calculate the average loss at the end.\n",
    "        loss = loss_fn(outputs, b_labels.float())\n",
    "        total_train_loss += loss.item()\n",
    "\n",
    "        # Perform a backward pass to calculate the gradients.\n",
    "        loss.double().backward()\n",
    "\n",
    "        # Clip the norm of the gradients to 1.0.\n",
    "        # This is to help prevent the \"exploding gradients\" problem.\n",
    "        torch.nn.utils.clip_grad_norm_(model.parameters(), 1.0)\n",
    "\n",
    "        # Update parameters and take a step using the computed gradient.\n",
    "        # The optimizer dictates the \"update rule\"--how the parameters are\n",
    "        # modified based on their gradients, the learning rate, etc.\n",
    "        optimizer.step()\n",
    "\n",
    "        # Update the learning rate.\n",
    "        scheduler.step()\n",
    "\n",
    "    # Calculate the average loss over all of the batches.\n",
    "    avg_train_loss = total_train_loss / len(train_dataloader)            \n",
    "    \n",
    "    # Measure how long this epoch took.\n",
    "    training_time = format_time(time.time() - t0)\n",
    "\n",
    "    print(\"\")\n",
    "    print(\"  Average training loss: {0:.2f}\".format(avg_train_loss))\n",
    "    print(\"  Training epoch took: {:}\".format(training_time))\n",
    "\n",
    "    top_count = 0\n",
    "    top_10_count = 0\n",
    "    top_100_count = 0\n",
    "        \n",
    "    # ========================================\n",
    "    #               Validation\n",
    "    # ========================================\n",
    "    # After the completion of each training epoch, measure our performance on\n",
    "    # our validation set.\n",
    "\n",
    "    print(\"\")\n",
    "    print(\"Running Validation...\")\n",
    "\n",
    "    t0 = time.time()\n",
    "\n",
    "    # Put the model in evaluation mode--the dropout layers behave differently\n",
    "    # during evaluation.\n",
    "    model.eval()\n",
    "\n",
    "    # Tracking variables \n",
    "    total_eval_accuracy = 0\n",
    "    total_eval_loss = 0\n",
    "    nb_eval_steps = 0\n",
    "\n",
    "    # Evaluate data for one epoch\n",
    "    for batch in validation_dataloader:\n",
    "        \n",
    "        # Unpack this training batch from our dataloader. \n",
    "        #\n",
    "        # As we unpack the batch, we'll also copy each tensor to the GPU using \n",
    "        # the `to` method.\n",
    "        #\n",
    "        # `batch` contains three pytorch tensors:\n",
    "        #   [0]: input ids \n",
    "        #   [1]: attention masks\n",
    "        #   [2]: labels \n",
    "        b_input_ids = batch[0].to(device)\n",
    "        b_input_mask = batch[1].to(device)\n",
    "        b_labels = batch[2].to(device)\n",
    "        \n",
    "        # Tell pytorch not to bother with constructing the compute graph during\n",
    "        # the forward pass, since this is only needed for backprop (training).\n",
    "        with torch.no_grad():        \n",
    "\n",
    "            # Forward pass, calculate logit predictions.\n",
    "            # token_type_ids is the same as the \"segment ids\", which \n",
    "            # differentiates sentence 1 and 2 in 2-sentence tasks.\n",
    "            # The documentation for this `model` function is here: \n",
    "            # https://huggingface.co/transformers/v2.2.0/model_doc/bert.html#transformers.BertForSequenceClassification\n",
    "            # Get the \"logits\" output by the model. The \"logits\" are the output\n",
    "            # values prior to applying an activation function like the softmax.\n",
    "            outputs = bert_layer(b_input_ids)\n",
    "            outputs = outputs[0].view(outputs[0].shape[0], 153600)\n",
    "            outputs = model(outputs)\n",
    "            loss = loss_fn(outputs, b_labels.float())\n",
    "            \n",
    "        # Accumulate the validation loss.\n",
    "        total_eval_loss += loss.item()\n",
    "\n",
    "        # Move logits and labels to CPU\n",
    "        label_ids = b_labels.to('cpu').numpy()\n",
    "\n",
    "        # Calculate the accuracy for this batch of test sentences, and\n",
    "        # accumulate it over all batches.\n",
    "        for i in range(outputs.shape[0]): # batch_size\n",
    "            top_100 = Fastext_model.wv.most_similar(positive=[outputs[i].cpu().numpy().astype(np.float32)], topn=100)\n",
    "            top_10 = Fastext_model.wv.most_similar(positive=[outputs[i].cpu().numpy().astype(np.float32)], topn=10)[:10]\n",
    "            actual = Fastext_model.wv.most_similar(positive=[b_labels[i].cpu().numpy().astype(np.float32)], topn=1)[0][0]\n",
    "            top_count += actual == top_10[0][0]\n",
    "            top_10_count += actual in [pairs[0] for pairs in top_10]\n",
    "            top_100_count += actual in [pairs[0] for pairs in top_100]\n",
    "        print(top_count, top_10_count, top_100_count)\n",
    "\n",
    "    # Report the final accuracy for this validation run.\n",
    "    avg_val_accuracy = top_count / len(validation_dataloader)\n",
    "    print(\"  Top 1 Accuracy: {0:.2f}\".format(avg_val_accuracy))\n",
    "    avg_val_10_accuracy = top_10_count / len(validation_dataloader)\n",
    "    print(\"  Top 10 Accuracy: {0:.2f}\".format(avg_val_accuracy))\n",
    "    avg_val_100_accuracy = top_100_count / len(validation_dataloader)\n",
    "    print(\"  Top 100 Accuracy: {0:.2f}\".format(avg_val_accuracy))\n",
    "\n",
    "    # Calculate the average loss over all of the batches.\n",
    "    avg_val_loss = total_eval_loss / len(validation_dataloader)\n",
    "    \n",
    "    # Measure how long the validation run took.\n",
    "    validation_time = format_time(time.time() - t0)\n",
    "    \n",
    "    print(\"  Validation Loss: {0:.2f}\".format(avg_val_loss))\n",
    "    print(\"  Validation took: {:}\".format(validation_time))\n",
    "\n",
    "    # Record all statistics from this epoch.\n",
    "    training_stats.append(\n",
    "        {\n",
    "            'epoch': epoch_i + 1,\n",
    "            'Training Loss': avg_train_loss,\n",
    "            'Valid. Loss': avg_val_loss,\n",
    "            'Valid. Top 1 Accur.': avg_val_accuracy,\n",
    "            'Valid. Top 10 Accur.': avg_val_10_accuracy,\n",
    "            'Valid. Top 100 Accur.': avg_val_100_accuracy,\n",
    "            'Training Time': training_time,\n",
    "            'Validation Time': validation_time\n",
    "        }\n",
    "    )\n",
    "\n",
    "print(\"\")\n",
    "print(\"Training complete!\")\n",
    "\n",
    "print(\"Total training took {:} (h:mm:ss)\".format(format_time(time.time()-total_t0)))"
   ]
  },
  {
   "cell_type": "code",
   "execution_count": 27,
   "metadata": {
    "nterop": {
     "id": "39"
    },
    "scrolled": true
   },
   "outputs": [
    {
     "name": "stdout",
     "output_type": "stream",
     "text": [
      "4 18 294\n",
      "  Top 1 Accuracy: 0.00\n",
      "  Top 10 Accuracy: 0.00\n",
      "  Top 100 Accuracy: 0.00\n",
      "  Validation Loss: 4279.50\n",
      "  Validation took: 6:07:31\n"
     ]
    }
   ],
   "source": [
    "top_count = 0\n",
    "top_10_count = 0\n",
    "top_100_count = 0\n",
    "\n",
    "for batch in validation_dataloader:\n",
    "        \n",
    "        # Unpack this training batch from our dataloader. \n",
    "        #\n",
    "        # As we unpack the batch, we'll also copy each tensor to the GPU using \n",
    "        # the `to` method.\n",
    "        #\n",
    "        # `batch` contains three pytorch tensors:\n",
    "        #   [0]: input ids \n",
    "        #   [1]: attention masks\n",
    "        #   [2]: labels \n",
    "        b_input_ids = batch[0].to(device)\n",
    "        b_input_mask = batch[1].to(device)\n",
    "        b_labels = batch[2].to(device)\n",
    "        \n",
    "        # Tell pytorch not to bother with constructing the compute graph during\n",
    "        # the forward pass, since this is only needed for backprop (training).\n",
    "        with torch.no_grad():        \n",
    "\n",
    "            # Forward pass, calculate logit predictions.\n",
    "            # token_type_ids is the same as the \"segment ids\", which \n",
    "            # differentiates sentence 1 and 2 in 2-sentence tasks.\n",
    "            # The documentation for this `model` function is here: \n",
    "            # https://huggingface.co/transformers/v2.2.0/model_doc/bert.html#transformers.BertForSequenceClassification\n",
    "            # Get the \"logits\" output by the model. The \"logits\" are the output\n",
    "            # values prior to applying an activation function like the softmax.\n",
    "            outputs = bert_layer(b_input_ids)\n",
    "            outputs = outputs[0].view(outputs[0].shape[0], 153600)\n",
    "            outputs = model(outputs)\n",
    "            loss = loss_fn(outputs, b_labels.float())\n",
    "            \n",
    "        # Accumulate the validation loss.\n",
    "        total_eval_loss += loss.item()\n",
    "\n",
    "        # Move logits and labels to CPU\n",
    "        label_ids = b_labels.to('cpu').numpy()\n",
    "\n",
    "        # Calculate the accuracy for this batch of test sentences, and\n",
    "        # accumulate it over all batches.\n",
    "        for i in range(outputs.shape[0]): # batch_size\n",
    "            top_100 = Fastext_model.wv.most_similar(positive=[outputs[i].cpu().numpy().astype(np.float32)], topn=100)\n",
    "            top_10 = Fastext_model.wv.most_similar(positive=[outputs[i].cpu().numpy().astype(np.float32)], topn=10)[:10]\n",
    "            actual = Fastext_model.wv.most_similar(positive=[b_labels[i].cpu().numpy().astype(np.float32)], topn=1)[0][0]\n",
    "            top_count += actual == top_10[0][0]\n",
    "            top_10_count += actual in [pairs[0] for pairs in top_10]\n",
    "            top_100_count += actual in [pairs[0] for pairs in top_100]\n",
    "            #if (i%1000 == 0):\n",
    "print(top_count, top_10_count, top_100_count)\n",
    "\n",
    "# Report the final accuracy for this validation run.\n",
    "avg_val_accuracy = top_count / len(validation_dataloader)\n",
    "print(\"  Top 1 Accuracy: {0:.2f}\".format(avg_val_accuracy))\n",
    "avg_val_10_accuracy = top_10_count / len(validation_dataloader)\n",
    "print(\"  Top 10 Accuracy: {0:.2f}\".format(avg_val_accuracy))\n",
    "avg_val_100_accuracy = top_100_count / len(validation_dataloader)\n",
    "print(\"  Top 100 Accuracy: {0:.2f}\".format(avg_val_accuracy))\n",
    "\n",
    "# Calculate the average loss over all of the batches.\n",
    "avg_val_loss = total_eval_loss / len(validation_dataloader)\n",
    "\n",
    "# Measure how long the validation run took.\n",
    "validation_time = format_time(time.time() - t0)\n",
    "\n",
    "print(\"  Validation Loss: {0:.2f}\".format(avg_val_loss))\n",
    "print(\"  Validation took: {:}\".format(validation_time))\n"
   ]
  },
  {
   "cell_type": "code",
   "execution_count": 28,
   "metadata": {
    "nterop": {
     "id": "40"
    }
   },
   "outputs": [
    {
     "data": {
      "text/plain": [
       "3648"
      ]
     },
     "execution_count": 28,
     "metadata": {
      "nterop": {
       "id": "41"
      }
     },
     "output_type": "execute_result"
    }
   ],
   "source": [
    "len(validation_dataloader)"
   ]
  },
  {
   "cell_type": "code",
   "execution_count": 32,
   "metadata": {
    "nterop": {
     "id": "42"
    }
   },
   "outputs": [
    {
     "data": {
      "text/plain": [
       "0.10964912280701754"
      ]
     },
     "execution_count": 32,
     "metadata": {
      "nterop": {
       "id": "43"
      }
     },
     "output_type": "execute_result"
    }
   ],
   "source": [
    "100 * (top_count / len(validation_dataloader))"
   ]
  },
  {
   "cell_type": "code",
   "execution_count": 33,
   "metadata": {
    "nterop": {
     "id": "44"
    }
   },
   "outputs": [
    {
     "data": {
      "text/plain": [
       "0.4934210526315789"
      ]
     },
     "execution_count": 33,
     "metadata": {
      "nterop": {
       "id": "45"
      }
     },
     "output_type": "execute_result"
    }
   ],
   "source": [
    "100 * (top_10_count / len(validation_dataloader))"
   ]
  },
  {
   "cell_type": "code",
   "execution_count": 34,
   "metadata": {
    "nterop": {
     "id": "46"
    }
   },
   "outputs": [
    {
     "data": {
      "text/plain": [
       "8.05921052631579"
      ]
     },
     "execution_count": 34,
     "metadata": {
      "nterop": {
       "id": "47"
      }
     },
     "output_type": "execute_result"
    }
   ],
   "source": [
    "100 *( top_100_count / len(validation_dataloader))"
   ]
  },
  {
   "cell_type": "code",
   "execution_count": null,
   "metadata": {
    "nterop": {
     "id": "48"
    }
   },
   "outputs": [],
   "source": []
  }
 ],
 "metadata": {
  "accelerator": "GPU",
  "colab": {
   "name": "bert_base.ipynb",
   "provenance": []
  },
  "hide_input": false,
  "kernelspec": {
   "display_name": "Python 3 (ipykernel)",
   "language": "python",
   "name": "python3"
  },
  "language_info": {
   "codemirror_mode": {
    "name": "ipython",
    "version": 3
   },
   "file_extension": ".py",
   "mimetype": "text/x-python",
   "name": "python",
   "nbconvert_exporter": "python",
   "pygments_lexer": "ipython3",
   "version": "3.7.12"
  },
  "nterop": {
   "seedId": "48"
  }
 },
 "nbformat": 4,
 "nbformat_minor": 1
}
