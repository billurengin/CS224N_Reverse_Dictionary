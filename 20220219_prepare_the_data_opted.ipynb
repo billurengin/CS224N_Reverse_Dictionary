{
 "cells": [
  {
   "cell_type": "code",
   "execution_count": 1,
   "id": "d2af83d0",
   "metadata": {
    "nterop": {
     "id": "2"
    }
   },
   "outputs": [],
   "source": [
    "import pandas as pd"
   ]
  },
  {
   "cell_type": "code",
   "execution_count": 2,
   "id": "768dddc5",
   "metadata": {
    "nterop": {
     "id": "1"
    }
   },
   "outputs": [],
   "source": [
    "import string\n",
    "alphabet = list(string.ascii_uppercase)"
   ]
  },
  {
   "cell_type": "code",
   "execution_count": 14,
   "id": "6427485a",
   "metadata": {
    "nterop": {
     "id": "3"
    }
   },
   "outputs": [
    {
     "name": "stdout",
     "output_type": "stream",
     "text": [
      "Desperate (\n",
      "E\n",
      "Flavoring\n",
      "Grail\n"
     ]
    }
   ],
   "source": [
    "my_dictionary = pd.DataFrame(columns = ['word', 'ss_type', 'definition'])\n",
    "for character in alphabet:\n",
    "    with open('datasets/Opted/' + character + '.txt') as f:\n",
    "        lines = f.readlines()\n",
    "        for line in lines:\n",
    "            if len(line.strip()) > 0:\n",
    "                try:\n",
    "                    df_temp = pd.DataFrame()\n",
    "                    word_end_index = line.index('(')\n",
    "                    defn_start_index = line.index(')') + 1\n",
    "                    df_temp.loc[0, 'word'] = line[:word_end_index].strip().lower()\n",
    "                    df_temp.loc[0, 'ss_type'] = line[word_end_index + 1 : defn_start_index-1].strip()\n",
    "                    df_temp.loc[0, 'definition'] = line[defn_start_index + 1 :].strip().lower()\n",
    "                    my_dictionary = my_dictionary.append(df_temp, ignore_index=True)\n",
    "                except:\n",
    "                    print(line)"
   ]
  },
  {
   "cell_type": "code",
   "execution_count": 15,
   "id": "ca8f213d",
   "metadata": {
    "nterop": {
     "id": "4"
    }
   },
   "outputs": [],
   "source": [
    "my_dictionary.drop_duplicates(inplace = True)"
   ]
  },
  {
   "cell_type": "code",
   "execution_count": 16,
   "id": "bd919ae4",
   "metadata": {
    "nterop": {
     "id": "5"
    }
   },
   "outputs": [
    {
     "data": {
      "text/html": [
       "<div>\n",
       "<style scoped>\n",
       "    .dataframe tbody tr th:only-of-type {\n",
       "        vertical-align: middle;\n",
       "    }\n",
       "\n",
       "    .dataframe tbody tr th {\n",
       "        vertical-align: top;\n",
       "    }\n",
       "\n",
       "    .dataframe thead th {\n",
       "        text-align: right;\n",
       "    }\n",
       "</style>\n",
       "<table border=\"1\" class=\"dataframe\">\n",
       "  <thead>\n",
       "    <tr style=\"text-align: right;\">\n",
       "      <th></th>\n",
       "      <th>word</th>\n",
       "      <th>ss_type</th>\n",
       "      <th>definition</th>\n",
       "    </tr>\n",
       "  </thead>\n",
       "  <tbody>\n",
       "    <tr>\n",
       "      <th>0</th>\n",
       "      <td>a</td>\n",
       "      <td></td>\n",
       "      <td>the first letter of the english and of many ot...</td>\n",
       "    </tr>\n",
       "    <tr>\n",
       "      <th>1</th>\n",
       "      <td>a</td>\n",
       "      <td></td>\n",
       "      <td>the name of the sixth tone in the model major ...</td>\n",
       "    </tr>\n",
       "    <tr>\n",
       "      <th>2</th>\n",
       "      <td>a</td>\n",
       "      <td></td>\n",
       "      <td>an adjective, commonly called the indefinite a...</td>\n",
       "    </tr>\n",
       "    <tr>\n",
       "      <th>3</th>\n",
       "      <td>a</td>\n",
       "      <td></td>\n",
       "      <td>in each; to or for each; as, \"twenty leagues a...</td>\n",
       "    </tr>\n",
       "    <tr>\n",
       "      <th>4</th>\n",
       "      <td>a</td>\n",
       "      <td>prep.</td>\n",
       "      <td>in; on; at; by.</td>\n",
       "    </tr>\n",
       "    <tr>\n",
       "      <th>5</th>\n",
       "      <td>a</td>\n",
       "      <td>prep.</td>\n",
       "      <td>in process of; in the act of; into; to; -- use...</td>\n",
       "    </tr>\n",
       "    <tr>\n",
       "      <th>6</th>\n",
       "      <td>a</td>\n",
       "      <td></td>\n",
       "      <td>of.</td>\n",
       "    </tr>\n",
       "    <tr>\n",
       "      <th>7</th>\n",
       "      <td>a</td>\n",
       "      <td></td>\n",
       "      <td>a barbarous corruption of have, of he, and som...</td>\n",
       "    </tr>\n",
       "    <tr>\n",
       "      <th>8</th>\n",
       "      <td>a</td>\n",
       "      <td></td>\n",
       "      <td>an expletive, void of sense, to fill up the meter</td>\n",
       "    </tr>\n",
       "    <tr>\n",
       "      <th>9</th>\n",
       "      <td>a-</td>\n",
       "      <td></td>\n",
       "      <td>a, as a prefix to english words, is derived fr...</td>\n",
       "    </tr>\n",
       "    <tr>\n",
       "      <th>10</th>\n",
       "      <td>a 1</td>\n",
       "      <td></td>\n",
       "      <td>a registry mark given by underwriters (as at l...</td>\n",
       "    </tr>\n",
       "    <tr>\n",
       "      <th>11</th>\n",
       "      <td>aam</td>\n",
       "      <td>n.</td>\n",
       "      <td>a dutch and german measure of liquids, varying...</td>\n",
       "    </tr>\n",
       "    <tr>\n",
       "      <th>12</th>\n",
       "      <td>aard-vark</td>\n",
       "      <td>n.</td>\n",
       "      <td>an edentate mammal, of the genus orycteropus, ...</td>\n",
       "    </tr>\n",
       "    <tr>\n",
       "      <th>13</th>\n",
       "      <td>aard-wolf</td>\n",
       "      <td>n.</td>\n",
       "      <td>a carnivorous quadruped (proteles lalandii), o...</td>\n",
       "    </tr>\n",
       "    <tr>\n",
       "      <th>14</th>\n",
       "      <td>aaronic</td>\n",
       "      <td>a.</td>\n",
       "      <td>alt. of aaronical</td>\n",
       "    </tr>\n",
       "    <tr>\n",
       "      <th>15</th>\n",
       "      <td>aaronical</td>\n",
       "      <td>a.</td>\n",
       "      <td>pertaining to aaron, the first high priest of ...</td>\n",
       "    </tr>\n",
       "    <tr>\n",
       "      <th>16</th>\n",
       "      <td>aaron's rod</td>\n",
       "      <td></td>\n",
       "      <td>a rod with one serpent twined around it, thus ...</td>\n",
       "    </tr>\n",
       "    <tr>\n",
       "      <th>17</th>\n",
       "      <td>aaron's rod</td>\n",
       "      <td></td>\n",
       "      <td>a plant with a tall flowering stem; esp. the g...</td>\n",
       "    </tr>\n",
       "    <tr>\n",
       "      <th>18</th>\n",
       "      <td>ab-</td>\n",
       "      <td></td>\n",
       "      <td>a prefix in many words of latin origin. it sig...</td>\n",
       "    </tr>\n",
       "    <tr>\n",
       "      <th>19</th>\n",
       "      <td>ab</td>\n",
       "      <td>n.</td>\n",
       "      <td>the fifth month of the jewish year according t...</td>\n",
       "    </tr>\n",
       "    <tr>\n",
       "      <th>20</th>\n",
       "      <td>abaca</td>\n",
       "      <td>n.</td>\n",
       "      <td>the manila-hemp plant (musa textilis); also, i...</td>\n",
       "    </tr>\n",
       "    <tr>\n",
       "      <th>21</th>\n",
       "      <td>abacinate</td>\n",
       "      <td>v. t.</td>\n",
       "      <td>to blind by a red-hot metal plate held before ...</td>\n",
       "    </tr>\n",
       "    <tr>\n",
       "      <th>22</th>\n",
       "      <td>abacination</td>\n",
       "      <td>n.</td>\n",
       "      <td>the act of abacinating.</td>\n",
       "    </tr>\n",
       "    <tr>\n",
       "      <th>23</th>\n",
       "      <td>abaciscus</td>\n",
       "      <td>n.</td>\n",
       "      <td>one of the tiles or squares of a tessellated p...</td>\n",
       "    </tr>\n",
       "    <tr>\n",
       "      <th>24</th>\n",
       "      <td>abacist</td>\n",
       "      <td>n.</td>\n",
       "      <td>one who uses an abacus in casting accounts; a ...</td>\n",
       "    </tr>\n",
       "    <tr>\n",
       "      <th>25</th>\n",
       "      <td>aback</td>\n",
       "      <td>adv.</td>\n",
       "      <td>toward the back or rear; backward.</td>\n",
       "    </tr>\n",
       "    <tr>\n",
       "      <th>26</th>\n",
       "      <td>aback</td>\n",
       "      <td>adv.</td>\n",
       "      <td>behind; in the rear.</td>\n",
       "    </tr>\n",
       "    <tr>\n",
       "      <th>27</th>\n",
       "      <td>aback</td>\n",
       "      <td>adv.</td>\n",
       "      <td>backward against the mast; -- said of the sail...</td>\n",
       "    </tr>\n",
       "    <tr>\n",
       "      <th>28</th>\n",
       "      <td>aback</td>\n",
       "      <td>n.</td>\n",
       "      <td>an abacus.</td>\n",
       "    </tr>\n",
       "    <tr>\n",
       "      <th>29</th>\n",
       "      <td>abactinal</td>\n",
       "      <td>a.</td>\n",
       "      <td>pertaining to the surface or end opposite to t...</td>\n",
       "    </tr>\n",
       "  </tbody>\n",
       "</table>\n",
       "</div>"
      ],
      "text/plain": [
       "           word ss_type                                         definition\n",
       "0             a          the first letter of the english and of many ot...\n",
       "1             a          the name of the sixth tone in the model major ...\n",
       "2             a          an adjective, commonly called the indefinite a...\n",
       "3             a          in each; to or for each; as, \"twenty leagues a...\n",
       "4             a   prep.                                    in; on; at; by.\n",
       "5             a   prep.  in process of; in the act of; into; to; -- use...\n",
       "6             a                                                        of.\n",
       "7             a          a barbarous corruption of have, of he, and som...\n",
       "8             a          an expletive, void of sense, to fill up the meter\n",
       "9            a-          a, as a prefix to english words, is derived fr...\n",
       "10          a 1          a registry mark given by underwriters (as at l...\n",
       "11          aam      n.  a dutch and german measure of liquids, varying...\n",
       "12    aard-vark      n.  an edentate mammal, of the genus orycteropus, ...\n",
       "13    aard-wolf      n.  a carnivorous quadruped (proteles lalandii), o...\n",
       "14      aaronic      a.                                  alt. of aaronical\n",
       "15    aaronical      a.  pertaining to aaron, the first high priest of ...\n",
       "16  aaron's rod          a rod with one serpent twined around it, thus ...\n",
       "17  aaron's rod          a plant with a tall flowering stem; esp. the g...\n",
       "18          ab-          a prefix in many words of latin origin. it sig...\n",
       "19           ab      n.  the fifth month of the jewish year according t...\n",
       "20        abaca      n.  the manila-hemp plant (musa textilis); also, i...\n",
       "21    abacinate   v. t.  to blind by a red-hot metal plate held before ...\n",
       "22  abacination      n.                            the act of abacinating.\n",
       "23    abaciscus      n.  one of the tiles or squares of a tessellated p...\n",
       "24      abacist      n.  one who uses an abacus in casting accounts; a ...\n",
       "25        aback    adv.                 toward the back or rear; backward.\n",
       "26        aback    adv.                               behind; in the rear.\n",
       "27        aback    adv.  backward against the mast; -- said of the sail...\n",
       "28        aback      n.                                         an abacus.\n",
       "29    abactinal      a.  pertaining to the surface or end opposite to t..."
      ]
     },
     "execution_count": 16,
     "metadata": {
      "nterop": {
       "id": "6"
      }
     },
     "output_type": "execute_result"
    }
   ],
   "source": [
    "my_dictionary.head(30)"
   ]
  },
  {
   "cell_type": "code",
   "execution_count": 17,
   "id": "56b52cf1",
   "metadata": {
    "nterop": {
     "id": "7"
    }
   },
   "outputs": [
    {
     "data": {
      "text/plain": [
       "(84601, 3)"
      ]
     },
     "execution_count": 17,
     "metadata": {
      "nterop": {
       "id": "8"
      }
     },
     "output_type": "execute_result"
    }
   ],
   "source": [
    "my_dictionary.shape"
   ]
  },
  {
   "cell_type": "code",
   "execution_count": 18,
   "id": "d1a77398",
   "metadata": {
    "nterop": {
     "id": "9"
    }
   },
   "outputs": [
    {
     "data": {
      "text/plain": [
       "array(['', 'prep.', 'n.', 'a.', 'v. t.', 'adv.', 'pl.', 'p. p.',\n",
       "       'imp. & p. p.', 'p. pr. & vb. n.', 'v.', 'v. i.', 'n. pl.',\n",
       "       'adv. & a.', 'superl.', 'v. t. & i.', 'p. a.', 'p. p. & a.',\n",
       "       'a & n.', 'a. & adv.', 'interj. & adv.', 'imp. & p. p. Adored (/',\n",
       "       'n. & a.', 'imp. / p. p.', 'p. pr. / vb. n.', 'p. pr.',\n",
       "       'a. superl.', 'adv. & prep.', 'a & p. p.', 'n. & v.', 'interj.',\n",
       "       'A prefix.', 'conj.', 'a. & n.', 'v. t. / i.', 'adj.',\n",
       "       'n. sing. & pl.', 'prep. & adv.', 'adv. & conj.', 'n. fem.',\n",
       "       'ambassade.', 'p. p. & p. a.', 'interj., adv., & n.',\n",
       "       'p pr. & vb. n.', 'imp. p. p.', 'pron. & a.', 'a. / n.', 'n. pl',\n",
       "       'a. & pron.', 'n., a., & v.', 'imp.', 'n.p.', 'v./t.', 'p.a.',\n",
       "       'sing.', '/', 'n. & v. t.', 'n .', 'p. pr & vb. n.',\n",
       "       'n. sing. & pl', 'a. & p. p.', 'v. i. & t.', 'Obs', 'compar.',\n",
       "       'n. / v. t. & i.', 'pref.', '3d sing. pr.', 'a. or pron.',\n",
       "       'p. p & a.', 'sing. or pl.', 'v. & n.', 'n.pl.', 'imp. &. p. p.',\n",
       "       'ads.', '3d sing.pr.', 'n.masc.', 'v. i.,', 'prep., adv. & conj.',\n",
       "       'imp. & p. p', 'imp. &p. p.', 'v. i. & i.', 'super.',\n",
       "       'p. pr. & vb n.', 'p. pr. &vb. n.', 'v. t. / v. i.', 'ad.',\n",
       "       'n.sing & pl.', 'L. catechunenus, Gr. / instructed, from /. See',\n",
       "       'v. t. & n.', 'p. pr. & v. n.', 'p. a. & vb. n.', 'n',\n",
       "       'p. pr. & a.', 'imperative sing.', '/.', 'n. t.', 'a. / a. pron.',\n",
       "       '3d pers. sing. pres.', 'pron.', 'obs. imp.', 'conj. Either', 'b.',\n",
       "       'adv. / interj.', 'v. t. &', 'Superl.', 'a. .',\n",
       "       'imp. & p. p. Fenced (/', 'n., sing. & pl.', 'n. & i.', 'n. masc.',\n",
       "       'v. & a.', 'a. / adv.', 'n.sing. & pl.', 'an.', 'n. sing.',\n",
       "       'p. pr. a. & vb. n.', 'n. a.', 'n. / interj.', 'prefix.',\n",
       "       'n. & interj.', 'inf. & plural pres.', 'a. Vigorously', 'n. i.',\n",
       "       'p. pr. & pr. & vb. n.', 'Indic. present', 'p. pr. & vb. /',\n",
       "       'obj.', 'suffix.', 'a & adv.', 'vb. n.', 'interj. & n.',\n",
       "       'p. pr. & vb.', 'pron. pl.', 'n. & v. i.', 'object.',\n",
       "       'pron. / adj.', 'adv. / a.', 'fem.', 'n & v.', 'n. Chem.',\n",
       "       'v. i. & n.', 'q.', 'm.', 'p. & a.', 'adv. & n.', 'n. m.',\n",
       "       'superl', 'strong imp.', 'obs. strong imp.', 'obs. p. p.',\n",
       "       'adv., & n.', 'obs. imp. & p. p.', 'obs. strong p. p.', 'b. t.',\n",
       "       'a. / pron.', 'a. f.', 'n. f.', 'p. pr. vb. n.', 'pers. pron.',\n",
       "       'v.t.', 'inerj.', 'a', 'p. pr. & vb. n', 'p. p., fem.',\n",
       "       'superl. -', 'adv. / conj.', 'n. & adv.', 'a/', 'p. pr. & vb, n.',\n",
       "       'indef. pron.', 'imp., p. p., or auxiliary', 'possessive pron.',\n",
       "       'P. p. & a.', 'imp., p. p., & a.', 'pr.p. & vb. n.', 'n pl.',\n",
       "       'v./.', 'v. imperative.', 'n..', 'v. t..', 'p. pr. & vb/ n.',\n",
       "       'supperl.', 'conj. & prep.', 'participle', 'v.impers.',\n",
       "       'syntactically sing.', 'obs.', 'v. impersonal, pres.',\n",
       "       'pron., a., conj., & adv.', 'definite article.', 'v. t. v. t.',\n",
       "       'v. r.', 'comp.', 'p. pl.', 'N.', 'a. Vibrating', 'imperative.',\n",
       "       'imp. & p. pr.', 'pron., a., & adv.', 'interrog. adv.',\n",
       "       'pron. & conj.', 'inf.', 'pres. sing.', 'e', 't', 'Archaic',\n",
       "       'a. & v.', 'Archaic imp. & p. p.', 'dat. & obj.'], dtype=object)"
      ]
     },
     "execution_count": 18,
     "metadata": {
      "nterop": {
       "id": "10"
      }
     },
     "output_type": "execute_result"
    }
   ],
   "source": [
    "my_dictionary.ss_type.unique()"
   ]
  },
  {
   "cell_type": "code",
   "execution_count": 21,
   "id": "4347b21f",
   "metadata": {
    "nterop": {
     "id": "11"
    }
   },
   "outputs": [
    {
     "data": {
      "text/plain": [
       "(54562, 80324, 209)"
      ]
     },
     "execution_count": 21,
     "metadata": {
      "nterop": {
       "id": "12"
      }
     },
     "output_type": "execute_result"
    }
   ],
   "source": [
    "(my_dictionary.word.nunique(), my_dictionary.definition.nunique(),my_dictionary.ss_type.nunique())"
   ]
  },
  {
   "cell_type": "code",
   "execution_count": 20,
   "id": "ab85e4aa",
   "metadata": {
    "nterop": {
     "id": "13"
    }
   },
   "outputs": [],
   "source": [
    "my_dictionary.to_pickle('datasets/Opted/opted.pkl')"
   ]
  },
  {
   "cell_type": "code",
   "execution_count": null,
   "id": "c619a877",
   "metadata": {
    "nterop": {
     "id": "14"
    }
   },
   "outputs": [],
   "source": []
  }
 ],
 "metadata": {
  "hide_input": false,
  "kernelspec": {
   "display_name": "Python 3 (ipykernel)",
   "language": "python",
   "name": "python3"
  },
  "language_info": {
   "codemirror_mode": {
    "name": "ipython",
    "version": 3
   },
   "file_extension": ".py",
   "mimetype": "text/x-python",
   "name": "python",
   "nbconvert_exporter": "python",
   "pygments_lexer": "ipython3",
   "version": "3.7.12"
  },
  "nterop": {
   "seedId": "14"
  }
 },
 "nbformat": 4,
 "nbformat_minor": 5
}
