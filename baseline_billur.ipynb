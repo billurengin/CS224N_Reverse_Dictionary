{
 "cells": [
  {
   "cell_type": "code",
   "execution_count": 1,
   "id": "a590e6fd",
   "metadata": {
    "nterop": {
     "id": "1"
    }
   },
   "outputs": [
    {
     "name": "stderr",
     "output_type": "stream",
     "text": [
      "[nltk_data] Downloading package punkt to /usr/share/nltk_data...\n",
      "[nltk_data]   Package punkt is already up-to-date!\n",
      "[nltk_data] Downloading package wordnet to /usr/share/nltk_data...\n",
      "[nltk_data]   Package wordnet is already up-to-date!\n",
      "[nltk_data] Downloading package stopwords to /usr/share/nltk_data...\n",
      "[nltk_data]   Package stopwords is already up-to-date!\n",
      "[nltk_data] Downloading package omw-1.4 to /usr/share/nltk_data...\n",
      "[nltk_data]   Package omw-1.4 is already up-to-date!\n"
     ]
    }
   ],
   "source": [
    "from gensim.models import FastText\n",
    "import pandas as pd\n",
    "import re\n",
    "import nltk\n",
    "from string import punctuation\n",
    "from nltk.corpus import stopwords\n",
    "from nltk.tokenize import word_tokenize\n",
    "from nltk.stem import WordNetLemmatizer\n",
    "from nltk.tokenize import sent_tokenize\n",
    "from nltk import WordPunctTokenizer\n",
    "import numpy as np\n",
    "nltk.download('punkt')\n",
    "nltk.download('wordnet')\n",
    "nltk.download('stopwords')\n",
    "nltk.download('omw-1.4')\n",
    "en_stop = set(nltk.corpus.stopwords.words('english'))"
   ]
  },
  {
   "cell_type": "code",
   "execution_count": 2,
   "id": "28188b67",
   "metadata": {
    "nterop": {
     "id": "2"
    }
   },
   "outputs": [],
   "source": [
    "## read the data\n",
    "opted_data = pd.read_pickle('datasets/Opted/opted.pkl')\n",
    "wordnet_data = pd.read_pickle('datasets/WordNet/wordnet.pkl')\n",
    "combined_data = pd.concat([opted_data, wordnet_data])"
   ]
  },
  {
   "cell_type": "code",
   "execution_count": 3,
   "id": "3f330629",
   "metadata": {
    "nterop": {
     "id": "3"
    }
   },
   "outputs": [],
   "source": [
    "fastext_df = combined_data[['word', 'definition']]\n",
    "fastext_df['modified_sentence'] = combined_data['word'] + \" \" + combined_data['definition']\n"
   ]
  },
  {
   "cell_type": "code",
   "execution_count": 4,
   "id": "79188fbd",
   "metadata": {
    "nterop": {
     "id": "4"
    }
   },
   "outputs": [],
   "source": [
    "def preprocess_text(sentence, stemmer):\n",
    "        # Remove all the special characters\n",
    "        sentence = re.sub(r'\\W', ' ', str(sentence))\n",
    "\n",
    "        # remove all single characters\n",
    "        sentence = re.sub(r'\\s+[a-zA-Z]\\s+', ' ', sentence)\n",
    "\n",
    "        # Remove single characters from the start\n",
    "        sentence = re.sub(r'\\^[a-zA-Z]\\s+', ' ', sentence)\n",
    "\n",
    "        # Substituting multiple spaces with single space\n",
    "        sentence = re.sub(r'\\s+', ' ', sentence, flags=re.I)\n",
    "\n",
    "        # Removing prefixed 'b'\n",
    "        sentence = re.sub(r'^b\\s+', '', sentence)\n",
    "\n",
    "        # Converting to Lowercase\n",
    "        sentence = sentence.lower()\n",
    "\n",
    "        # Lemmatization\n",
    "        tokens = sentence.split()\n",
    "        tokens = [stemmer.lemmatize(word) for word in tokens]\n",
    "        tokens = [word for word in tokens if word not in en_stop]\n",
    "        ##tokens = [word for word in tokens if len(word) > 3]\n",
    "\n",
    "        preprocessed_text = ' '.join(tokens)\n",
    "\n",
    "        return preprocessed_text"
   ]
  },
  {
   "cell_type": "code",
   "execution_count": 5,
   "id": "46928cb7",
   "metadata": {
    "nterop": {
     "id": "5"
    }
   },
   "outputs": [],
   "source": [
    "# preprocess and tokenize the data\n",
    "stemmer = WordNetLemmatizer()\n",
    "fastext_df['preprocessed_sentence'] = fastext_df.apply(lambda x: preprocess_text(x.modified_sentence, stemmer)\\\n",
    "                                                       , axis=1)\n",
    "preprocessed_sentence = fastext_df.preprocessed_sentence.tolist()\n",
    "preprocessed_sentence = [x for x in preprocessed_sentence if x != '']"
   ]
  },
  {
   "cell_type": "code",
   "execution_count": 6,
   "id": "5fcf5de4",
   "metadata": {
    "nterop": {
     "id": "6"
    }
   },
   "outputs": [],
   "source": [
    "word_punctuation_tokenizer = nltk.WordPunctTokenizer()\n",
    "word_tokenized_corpus = [word_punctuation_tokenizer.tokenize(sent) for sent in preprocessed_sentence]"
   ]
  },
  {
   "cell_type": "code",
   "execution_count": 7,
   "id": "f98d4752",
   "metadata": {
    "nterop": {
     "id": "7"
    }
   },
   "outputs": [],
   "source": [
    "## train fastext\n",
    "\n",
    "embedding_size = 60\n",
    "window_size = 40\n",
    "min_word = 1\n",
    "\n",
    "model = FastText(word_tokenized_corpus,\n",
    "                      vector_size=embedding_size,\n",
    "                      window=window_size,\n",
    "                      min_count=min_word)  # instantiate"
   ]
  },
  {
   "cell_type": "code",
   "execution_count": 8,
   "id": "a6495bec",
   "metadata": {
    "nterop": {
     "id": "8"
    }
   },
   "outputs": [
    {
     "name": "stdout",
     "output_type": "stream",
     "text": [
      "233436 training samples\n",
      "58360 validation samples\n"
     ]
    }
   ],
   "source": [
    "## train test split\n",
    "from sklearn.model_selection import train_test_split\n",
    "\n",
    "y = fastext_df['word'].tolist()\n",
    "X = fastext_df['definition'].tolist()\n",
    "\n",
    "X_train, X_test, y_train, y_test = train_test_split(X, y, test_size=0.20, random_state=224)\n",
    "\n",
    "print('{} training samples'.format(len(X_train)))\n",
    "print('{} validation samples'.format(len(X_test)))"
   ]
  },
  {
   "cell_type": "code",
   "execution_count": 9,
   "id": "cb63126a",
   "metadata": {
    "nterop": {
     "id": "9"
    }
   },
   "outputs": [],
   "source": [
    "## top 10 accuracy\n",
    "top10_accuracy_df = pd.DataFrame()\n",
    "for index in range(0, len(X_test)):\n",
    "    sent = preprocess_text(X_test[index], stemmer)\n",
    "    tokenized_sentence = word_punctuation_tokenizer.tokenize(sent)\n",
    "    try:\n",
    "        prediction_tuples = model.wv.most_similar(positive=tokenized_sentence)\n",
    "        predictions = []\n",
    "        for prediction, score in prediction_tuples:\n",
    "            predictions.append(prediction)\n",
    "        if y_test[index] in predictions:\n",
    "            top10_accuracy_df.loc[index, 'in_top_10'] = 1\n",
    "        else:\n",
    "            top10_accuracy_df.loc[index, 'in_top_10'] = 0  \n",
    "    except:\n",
    "        top10_accuracy_df.loc[index, 'in_top_10'] = np.nan "
   ]
  },
  {
   "cell_type": "code",
   "execution_count": 10,
   "id": "fc0f0da6",
   "metadata": {
    "nterop": {
     "id": "10"
    }
   },
   "outputs": [],
   "source": [
    "top10_accuracy_df.dropna(inplace = True)"
   ]
  },
  {
   "cell_type": "code",
   "execution_count": 12,
   "id": "06e454af",
   "metadata": {
    "nterop": {
     "id": "11"
    }
   },
   "outputs": [
    {
     "data": {
      "text/plain": [
       "in_top_10    0.015123\n",
       "dtype: float64"
      ]
     },
     "execution_count": 12,
     "metadata": {
      "nterop": {
       "id": "12"
      }
     },
     "output_type": "execute_result"
    }
   ],
   "source": [
    "top10_accuracy_df.sum()/top10_accuracy_df.shape[0]"
   ]
  },
  {
   "cell_type": "code",
   "execution_count": 20,
   "id": "0744accf",
   "metadata": {
    "nterop": {
     "id": "13"
    }
   },
   "outputs": [],
   "source": [
    "## top 100 accuracy\n",
    "\n",
    "\n",
    "top100_accuracy_df = pd.DataFrame()\n",
    "for index in range(0, len(X_test)):\n",
    "    sent = preprocess_text(X_test[index], stemmer)\n",
    "    tokenized_sentence = word_punctuation_tokenizer.tokenize(sent)\n",
    "    try:\n",
    "        prediction_tuples = model.wv.most_similar(positive=tokenized_sentence, topn = 100)\n",
    "        predictions = []\n",
    "        for prediction, score in prediction_tuples:\n",
    "            predictions.append(prediction)\n",
    "        if y_test[index] in predictions:\n",
    "            top100_accuracy_df.loc[index, 'in_top_100'] = 1\n",
    "        else:\n",
    "            top100_accuracy_df.loc[index, 'in_top_100'] = 0  \n",
    "    except:\n",
    "        top100_accuracy_df.loc[index, 'in_top_100'] = np.nan \n",
    "top100_accuracy_df.dropna(inplace = True)"
   ]
  },
  {
   "cell_type": "code",
   "execution_count": 21,
   "id": "62339a89",
   "metadata": {
    "nterop": {
     "id": "14"
    }
   },
   "outputs": [
    {
     "data": {
      "text/plain": [
       "in_top_100    0.042883\n",
       "dtype: float64"
      ]
     },
     "execution_count": 21,
     "metadata": {
      "nterop": {
       "id": "15"
      }
     },
     "output_type": "execute_result"
    }
   ],
   "source": [
    "top100_accuracy_df.sum()/top100_accuracy_df.shape[0]"
   ]
  },
  {
   "cell_type": "code",
   "execution_count": 22,
   "id": "0ae7e582",
   "metadata": {
    "nterop": {
     "id": "16"
    }
   },
   "outputs": [
    {
     "data": {
      "text/plain": [
       "in_top_1    0.004441\n",
       "dtype: float64"
      ]
     },
     "execution_count": 22,
     "metadata": {
      "nterop": {
       "id": "17"
      }
     },
     "output_type": "execute_result"
    }
   ],
   "source": [
    "## top 1 accuracy\n",
    "top1_accuracy_df = pd.DataFrame()\n",
    "for index in range(0, len(X_test)):\n",
    "    sent = preprocess_text(X_test[index], stemmer)\n",
    "    tokenized_sentence = word_punctuation_tokenizer.tokenize(sent)\n",
    "    try:\n",
    "        prediction_tuples = model.wv.most_similar(positive=tokenized_sentence, topn = 1)\n",
    "        predictions = []\n",
    "        for prediction, score in prediction_tuples:\n",
    "            predictions.append(prediction)\n",
    "        if y_test[index] in predictions:\n",
    "            top1_accuracy_df.loc[index, 'in_top_1'] = 1\n",
    "        else:\n",
    "            top1_accuracy_df.loc[index, 'in_top_1'] = 0  \n",
    "    except:\n",
    "        top1_accuracy_df.loc[index, 'in_top_1'] = np.nan \n",
    "top1_accuracy_df.dropna(inplace = True)\n",
    "top1_accuracy_df.sum()/top1_accuracy_df.shape[0]"
   ]
  },
  {
   "cell_type": "code",
   "execution_count": null,
   "id": "f6f87323",
   "metadata": {
    "nterop": {
     "id": "18"
    }
   },
   "outputs": [],
   "source": []
  }
 ],
 "metadata": {
  "hide_input": false,
  "kernelspec": {
   "display_name": "Python 3 (ipykernel)",
   "language": "python",
   "name": "python3"
  },
  "language_info": {
   "codemirror_mode": {
    "name": "ipython",
    "version": 3
   },
   "file_extension": ".py",
   "mimetype": "text/x-python",
   "name": "python",
   "nbconvert_exporter": "python",
   "pygments_lexer": "ipython3",
   "version": "3.7.12"
  },
  "nterop": {
   "seedId": "18"
  }
 },
 "nbformat": 4,
 "nbformat_minor": 5
}
